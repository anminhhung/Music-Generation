{
 "cells": [
  {
   "cell_type": "markdown",
   "metadata": {
    "colab_type": "text",
    "id": "m3Sdv9Cysp8k"
   },
   "source": [
    "# Building a Recurrent Neural Network for music generation"
   ]
  },
  {
   "cell_type": "markdown",
   "metadata": {
    "colab_type": "text",
    "id": "m1WX0U-8s6jU"
   },
   "source": [
    "Chúng ta sẽ huấn luyện một *model* để học các nốt nhạc trong bản nhạc ban đầu và sau đó sử dụng model để tạo một bản nhạc mới."
   ]
  },
  {
   "cell_type": "markdown",
   "metadata": {
    "colab_type": "text",
    "id": "NPVe20pztjOa"
   },
   "source": [
    "#### [ABC notation](https://en.wikipedia.org/wiki/ABC_notation)"
   ]
  },
  {
   "cell_type": "markdown",
   "metadata": {
    "colab_type": "text",
    "id": "nvgmDVSBtqnd"
   },
   "source": [
    "**ABC notation** là một hình thức tốc ký của ký hiệu âm nhạc (musical notation). Về cơ bản nó sử dụng các ký tự A đến G để đại diện cho các nốt được đưa vào. Với các yếu tố khác được sử dụng để thêm giá trị gia tăng trên các giá trị này như: sharp, flat, length of the note, key, ornamentation. Bắt đầu bằng một bộ ký tự ASCII có thể tạo điều kiện chia sẻ nhạc trực tuyến và cũng đã thêm một ngôn ngữ mới và đơn giản cho các nhà phát triển phần mềm, không giống như các ký hiệu khác được thiết kế dễ dàng. Ký hiệu ABC trước đó được xây dựng, chuẩn hóa và thay đổi để phù hợp với bàn phím hơn và ký tự ASCII được cài đặt bởi Chris WalShaw , với sự trợ giúp từ nhiều nguồn.    \n",
    "Thiết kế ban đầu để sử dụng với các giai điệu dân gian và truyền thống có nguồn gốc Tây Âu, ví dụ như Anh, Ailen, Scotland, thường là những giai điệu đơn ca có thể được viết bởi một nhạc sĩ theo ký hiệu chuẩn, công việc của Chris Walshaw và những người khác đã mở chúng với một danh sách các ký tự và tiêu đề tăng theo cú pháp cũng có thể hỗ trợ *metadata* cho mỗi giai điệu.    \n",
    "Ký hiệu ACB dựa trên ASCIIm bất kỳ trình soạn thảo văn bản nào cũng có thể được sử dụng để chỉnh sửa mã. Thậm chí, hiện nay có rất nhiều phần mềm ký hiệu ABC cung cấp nhiều tính năng, bao gồm khả năng đọc và xử lý ký hiệu ABC thành các tệp MIDI và ký hiệu \"dotted\". Phần mềm như vậy có sẵn cho hầu hết các hệ thống máy tính bao gồm Microsoft Winddowwns, Unix/Linux, Macintosh, Palm OS và dựa trên web."
   ]
  },
  {
   "cell_type": "markdown",
   "metadata": {
    "colab_type": "text",
    "id": "AdjO-ExqzL-D"
   },
   "source": [
    "### Dependencies"
   ]
  },
  {
   "cell_type": "code",
   "execution_count": 1,
   "metadata": {
    "colab": {
     "base_uri": "https://localhost:8080/",
     "height": 378
    },
    "colab_type": "code",
    "id": "2jrH13cotV9S",
    "outputId": "c2e39ce0-1faa-40bf-d96c-6b76dce3e5b7"
   },
   "outputs": [],
   "source": [
    "import tensorflow as tf\n",
    "import setup\n",
    "import util\n",
    "import numpy as np\n",
    "import os\n",
    "import time\n",
    "import functools\n",
    "from IPython import display as ipythondisplay\n",
    "from tqdm import tqdm\n"
   ]
  },
  {
   "cell_type": "markdown",
   "metadata": {
    "colab_type": "text",
    "id": "4dOcGqE50KHK"
   },
   "source": [
    "### Dataset"
   ]
  },
  {
   "cell_type": "markdown",
   "metadata": {
    "colab_type": "text",
    "id": "LkPghNqP0Ljh"
   },
   "source": [
    "Dataset gồm 1000 bài hát dân gian, biểu diễn trong *ABC notation*. "
   ]
  },
  {
   "cell_type": "code",
   "execution_count": 2,
   "metadata": {
    "colab": {
     "base_uri": "https://localhost:8080/",
     "height": 232
    },
    "colab_type": "code",
    "id": "seBiKz8WshHX",
    "outputId": "50096002-90c5-458a-9e8c-3228c9a9aacd"
   },
   "outputs": [
    {
     "name": "stdout",
     "output_type": "stream",
     "text": [
      "Found 816 songs in text\n",
      "Example song: \n",
      "X:2\n",
      "T:An Buachaill Dreoite\n",
      "Z: id:dc-hornpipe-2\n",
      "M:C|\n",
      "L:1/8\n",
      "K:G Major\n",
      "GF|DGGB d2GB|d2GF Gc (3AGF|DGGB d2GB|dBcA F2GF|!\n",
      "DGGB d2GF|DGGF G2Ge|fgaf gbag|fdcA G2:|!\n",
      "GA|B2BG c2cA|d2GF G2GA|B2BG c2cA|d2DE F2GA|!\n",
      "B2BG c2cA|d^cde f2 (3def|g2gf gbag|fdcA G2:|!\n"
     ]
    }
   ],
   "source": [
    "# Download the dataset\n",
    "songs = setup.load_training_data()\n",
    "\n",
    "example_song = songs[0]\n",
    "print(\"Example song: \")\n",
    "print(example_song)"
   ]
  },
  {
   "cell_type": "markdown",
   "metadata": {
    "colab_type": "text",
    "id": "4LVge1Pt0zPv"
   },
   "source": [
    "Chúng ta có thể dễ dàng chuyển đổi một bài hát trong *ABC notation* thành một bản audio. Hãy lưu ý khi chạy bước này vì nó sẽ mất một thời gian kha khá của bạn đấy."
   ]
  },
  {
   "cell_type": "code",
   "execution_count": 3,
   "metadata": {
    "colab": {
     "base_uri": "https://localhost:8080/",
     "height": 35
    },
    "colab_type": "code",
    "id": "WwnPtOOq0ydg",
    "outputId": "0e9c1c38-ad96-42f0-fe8b-835a4c219b14"
   },
   "outputs": [
    {
     "data": {
      "text/plain": [
       "'\\n  Convert the ABC notation to audio file and listen to it\\n'"
      ]
     },
     "execution_count": 3,
     "metadata": {},
     "output_type": "execute_result"
    }
   ],
   "source": [
    "'''\n",
    "  Convert the ABC notation to audio file and listen to it\n",
    "'''\n",
    "# mdl.lab1.play_song(example_song)"
   ]
  },
  {
   "cell_type": "markdown",
   "metadata": {
    "colab_type": "text",
    "id": "1VkbCmcaqiPA"
   },
   "source": [
    "Một suy nghĩa quan trọng về ký hiệu âm nhạc này là nó không chỉ đơn giản là chứa các thông tin trên các nốt đang được phát mà nó có thể còn thêm các thông tin khác ví dụ như *title, key* và *tempo*. Vậy làm thế nào để số lượng các ký tự khác nhau có trong tệp văn bản ảnh hưởng đến độ phức tạp của vấn học tập? Nó sẽ sớm trở nên quan trọng khi chúng ta tạo một con số đại diện cho ký tự văn bản"
   ]
  },
  {
   "cell_type": "code",
   "execution_count": 4,
   "metadata": {
    "colab": {
     "base_uri": "https://localhost:8080/",
     "height": 35
    },
    "colab_type": "code",
    "id": "cl37m4y5sFR6",
    "outputId": "f65b732b-2583-4ee9-aa98-3872626133da"
   },
   "outputs": [
    {
     "name": "stdout",
     "output_type": "stream",
     "text": [
      "There are 83 unique characters in the dataset\n"
     ]
    }
   ],
   "source": [
    "# Join our list of song strings into a single string containing all songs\n",
    "songs_joined = \"\\n\\n\".join(songs)\n",
    "# find all unique characters in the joined string\n",
    "vocab = sorted(set(songs_joined))\n",
    "print(\"There are\", len(vocab), \"unique characters in the dataset\")"
   ]
  },
  {
   "cell_type": "markdown",
   "metadata": {
    "colab_type": "text",
    "id": "ehH5Ssh2sdaE"
   },
   "source": [
    "### Process the dataset for the learning task"
   ]
  },
  {
   "cell_type": "markdown",
   "metadata": {
    "colab_type": "text",
    "id": "dEcw4pdSsgp3"
   },
   "source": [
    "Lùi lại một bước và xem xét quá trình dự đoán. Chúng ta thử huấn luyện một *RNN model* để học các mẫu trong *ABC music* và sau đó sử dụng *model* để tạo một bản nhạc mới dựa trên những thông tin đã học được.    \n",
    "Yêu cầu cho *model* đó là: Đưa vào một ký tự hoặc một chuỗi các ký tự nối tiếp nhau và yêu cầu *model* dự đoán xem ký tự tiếp theo sẽ xuất hiện là ký tự nào? Chúng ta sẽ huấn luyện *model* để trình bày nhiệm vụ này.    \n",
    "Để đạt được điều này, chúng ta sẽ đưa input là một chuỗi các ký tự nối tiếp nhau cho *model*, và huấn luyện *model* để dự đóan output, nghĩa là, theo dõi các ký tự tiếp theo sau đó ở mỗi bước. *RNNs* cung cấp một trạng thái nội bộ tùy thuộc vào các yếu tố được nhìn thấy trước đó. Vì vậy thông tin về tất cả ký tự nhìn thấy cho đến một thời điểm nhất định sẽ được đưa vào bên trong quá trình dự đoán."
   ]
  },
  {
   "cell_type": "markdown",
   "metadata": {
    "colab_type": "text",
    "id": "fQ_iQzIDwhfC"
   },
   "source": [
    "### Vectorize the text"
   ]
  },
  {
   "cell_type": "markdown",
   "metadata": {
    "colab_type": "text",
    "id": "nDXt0nHkwk1z"
   },
   "source": [
    "Trước khi chúng ta bắt đầu huấn luyện *RNN model*, chúng ta sẽ cần tạo một số lượng đại diện cho ký tự mẫu trong dataset. Để làm điều đó, chúng ta sẽ tạo hai bảng tra cứu: một để ánh xạ các ký tự thành số, và bảng thứ hai để ánh xạ số về ký tự. Chúng ta chỉ cần định nghĩa các ký tự duy nhất trong một văn bản."
   ]
  },
  {
   "cell_type": "code",
   "execution_count": 5,
   "metadata": {
    "colab": {},
    "colab_type": "code",
    "id": "EXw2tLxMscdF"
   },
   "outputs": [],
   "source": [
    "'''\n",
    "  Define numerical representation of text\n",
    "  Create a mapping from character to unique index\n",
    "  For example, to get the index of the character \"d\"\n",
    "  we can evalute char2idx[\"d\"]\n",
    "'''\n",
    "char2idx = {u:i for i, u in enumerate(vocab)}\n",
    "'''\n",
    "  Create a mapping from indices to characters.\n",
    "  This inverse of char2idx and allows us to convert back\n",
    "  from unique index to the character in our vocabulary\n",
    "'''\n",
    "idx2char = np.array(vocab)"
   ]
  },
  {
   "cell_type": "markdown",
   "metadata": {
    "colab_type": "text",
    "id": "hMvPZaitzBww"
   },
   "source": [
    "Nó đưa vào một số nguyên đại diện cho mỗi ký tự. Quan sát các ký tự duy nhất trong văn bản là ánh xạ của các chỉ số từ 0 đến len(unique). Hãy xem con số đại diện cho tập dữ liệu: "
   ]
  },
  {
   "cell_type": "code",
   "execution_count": 6,
   "metadata": {
    "colab": {
     "base_uri": "https://localhost:8080/",
     "height": 107
    },
    "colab_type": "code",
    "id": "ebLbWx5HsYvs",
    "outputId": "8673f379-2681-490f-f81a-b933fcac85dd"
   },
   "outputs": [
    {
     "name": "stdout",
     "output_type": "stream",
     "text": [
      " '\\n':   0,\n",
      " ' ' :   1,\n",
      " '!' :   2,\n",
      " '\"' :   3,\n",
      " '#' :   4,\n"
     ]
    }
   ],
   "source": [
    "number = 5\n",
    "for char, _ in zip(char2idx, range(number)):\n",
    "  print(' {:4s}: {:3d},'.format(repr(char), char2idx[char]))"
   ]
  },
  {
   "cell_type": "code",
   "execution_count": 7,
   "metadata": {
    "colab": {},
    "colab_type": "code",
    "id": "-FocJFDt0A5H"
   },
   "outputs": [],
   "source": [
    "def vectorize_string(string):\n",
    "  result = np.array([char2idx[char] for char in string])\n",
    "  return result"
   ]
  },
  {
   "cell_type": "code",
   "execution_count": 8,
   "metadata": {
    "colab": {
     "base_uri": "https://localhost:8080/",
     "height": 35
    },
    "colab_type": "code",
    "id": "vDFdD5Sw1o8P",
    "outputId": "e0b6157e-1e8c-422b-c96f-1975d4a4f867"
   },
   "outputs": [
    {
     "data": {
      "text/plain": [
       "array([49, 22, 14, ..., 22, 82,  2])"
      ]
     },
     "execution_count": 8,
     "metadata": {},
     "output_type": "execute_result"
    }
   ],
   "source": [
    "vectorized_songs = vectorize_string(songs_joined)\n",
    "vectorized_songs"
   ]
  },
  {
   "cell_type": "code",
   "execution_count": 9,
   "metadata": {
    "colab": {
     "base_uri": "https://localhost:8080/",
     "height": 35
    },
    "colab_type": "code",
    "id": "_hxY1QVc1yup",
    "outputId": "0251a75a-62de-46a0-f8c3-e2afe466baa9"
   },
   "outputs": [
    {
     "name": "stdout",
     "output_type": "stream",
     "text": [
      "'X:2\\nT:An B' ---characters mapped to int ----> [49 22 14  0 45 22 26 69  1 27]\n"
     ]
    }
   ],
   "source": [
    "print('{} ---characters mapped to int ----> {}'.format(\n",
    "    repr(songs_joined[:10]), vectorized_songs[:10]\n",
    "))\n",
    "# check that vectorized_songs is a numpy array\n",
    "assert isinstance(vectorized_songs, np.ndarray), \"returned result should be a numpy array\""
   ]
  },
  {
   "cell_type": "markdown",
   "metadata": {
    "colab_type": "text",
    "id": "HMMX0Cwh2qGV"
   },
   "source": [
    "### Create training examples and targets"
   ]
  },
  {
   "cell_type": "markdown",
   "metadata": {
    "colab_type": "text",
    "id": "inbZ3QCG2tdK"
   },
   "source": [
    "Bước tiếp theo là việc phân chia văn bản vào một *example sequences* và tập này sẽ được sử dụng trong quá trình huấn luyện. Với mỗi *sequence* chúng ta đưa vào *RNN* sẽ chứa *seq_length characters* từ văn bản. Chúng ta cần định nghĩa một *sequence* mục tiêu cho mỗi *sequence* đầu vào, cái mà chúng ta sẽ sử dụng để huấn luyện *RNN* cho việc dự đoán ký tự xuất hiện tiếp theo. Ví dụ với mỗi input, mục tiêu tương ứng sẽ lưu trữ cùng độ dài của văn bản, ngoại trừ việc dịch chuyển một ký tự sang bên phải.  \n",
    "Để làm điều này, chúng ta sẽ chia văn bản thành nhiều phần của *seq_length+1*. Giả sử *seq_length* là 4 và văn bản của chúng ta là \"Hello\". Sau đó, *input sequence* của chúng ta là *Hell* và *sequence* mục tiêu là \"ello\".  \n",
    "Sau đó chúng ta sẽ chuyển các chỉ mục ký tự này thành chuỗi có kích thước mong muốn."
   ]
  },
  {
   "cell_type": "code",
   "execution_count": 10,
   "metadata": {
    "colab": {},
    "colab_type": "code",
    "id": "RG8CUklw2lZz"
   },
   "outputs": [],
   "source": [
    "# Batch definition to create training examples\n",
    "def get_batch(vectorized_songs, seq_length, batch_size):\n",
    "  # the length of the vectorized songs string\n",
    "  n = vectorized_songs.shape[0] - 1\n",
    "  # randomly choose the starting indices for the examples in the training batch\n",
    "  idx = np.random.choice(n-seq_length, batch_size)\n",
    "  print(\"idx: \", idx)\n",
    "  # construct a list of input sequences for the training batch \n",
    "  input_batch = [vectorized_songs[i: i+seq_length] for i in idx]\n",
    "  print(\"input_batch: \", input_batch)\n",
    "  # construct a list of output sequences for the training batch\n",
    "  output_batch = [vectorized_songs[i+1 : i+seq_length+1] for i in idx]\n",
    "  print(\"output_batch: \", output_batch)\n",
    "\n",
    "  # x_batch, y_batch provide the true inputs and targets for network training\n",
    "  x_batch = np.reshape(input_batch, [batch_size, seq_length])\n",
    "  y_batch = np.reshape(output_batch, [batch_size, seq_length])\n",
    "  print(\"x_batch: \", x_batch)\n",
    "  print(\"y_batch: \", y_batch)\n",
    "  return x_batch, y_batch"
   ]
  },
  {
   "cell_type": "code",
   "execution_count": 11,
   "metadata": {
    "colab": {
     "base_uri": "https://localhost:8080/",
     "height": 465
    },
    "colab_type": "code",
    "id": "CAy8wUib9JKu",
    "outputId": "e0c88988-71d0-40fe-b54b-b2e260c563da"
   },
   "outputs": [
    {
     "name": "stdout",
     "output_type": "stream",
     "text": [
      "idx:  [78917  9476]\n",
      "input_batch:  [array([26, 11, 82, 27, 32,  1, 32, 25, 26, 82]), array([ 2,  0, 59, 14, 59, 14,  1, 59, 14, 58])]\n",
      "output_batch:  [array([11, 82, 27, 32,  1, 32, 25, 26, 82, 27]), array([ 0, 59, 14, 59, 14,  1, 59, 14, 58, 59])]\n",
      "x_batch:  [[26 11 82 27 32  1 32 25 26 82]\n",
      " [ 2  0 59 14 59 14  1 59 14 58]]\n",
      "y_batch:  [[11 82 27 32  1 32 25 26 82 27]\n",
      " [ 0 59 14 59 14  1 59 14 58 59]]\n",
      "[PASS] test_batch_func_types\n",
      "idx:  [ 53587 168452]\n",
      "input_batch:  [array([61, 82, 59, 26, 31,  1, 29, 31, 26, 82]), array([59, 58,  9, 73, 60, 60, 67,  9, 15, 15])]\n",
      "output_batch:  [array([82, 59, 26, 31,  1, 29, 31, 26, 82, 59]), array([58,  9, 73, 60, 60, 67,  9, 15, 15, 13])]\n",
      "x_batch:  [[61 82 59 26 31  1 29 31 26 82]\n",
      " [59 58  9 73 60 60 67  9 15 15]]\n",
      "y_batch:  [[82 59 26 31  1 29 31 26 82 59]\n",
      " [58  9 73 60 60 67  9 15 15 13]]\n",
      "[PASS] test_batch_func_shapes\n",
      "idx:  [ 94693 160537]\n",
      "input_batch:  [array([62, 82, 60, 27, 27, 14,  1, 59, 60, 61]), array([26, 32, 32, 14, 82, 32, 30, 29, 30,  1])]\n",
      "output_batch:  [array([82, 60, 27, 27, 14,  1, 59, 60, 61, 62]), array([32, 32, 14, 82, 32, 30, 29, 30,  1, 32])]\n",
      "x_batch:  [[62 82 60 27 27 14  1 59 60 61]\n",
      " [26 32 32 14 82 32 30 29 30  1]]\n",
      "y_batch:  [[82 60 27 27 14  1 59 60 61 62]\n",
      " [32 32 14 82 32 30 29 30  1 32]]\n",
      "[PASS] test_batch_func_next_step\n",
      "[INFO] passed all tests\n"
     ]
    }
   ],
   "source": [
    "# Perform some simple tests to make sure your batch function is working properly!\n",
    "test_args = (vectorized_songs, 10, 2)\n",
    "if not setup.test_batch_func_types(get_batch, test_args) or \\\n",
    "   not setup.test_batch_func_shapes(get_batch, test_args) or \\\n",
    "   not setup.test_batch_func_next_step(get_batch, test_args):\n",
    "  print(\"[INFO] could not pass tests\")\n",
    "else:\n",
    "  print(\"[INFO] passed all tests\")"
   ]
  },
  {
   "cell_type": "markdown",
   "metadata": {
    "colab_type": "text",
    "id": "3ySFspm-BQTb"
   },
   "source": [
    "Đối với mỗi vector này, mỗi chỉ mục được xử lý tại một bước duy nhất. Vì vậy, cho ví dụ tại bước 0, *model* nhận giá trị đầu tiên trong chuỗi, và thử dự đoán chỉ mục của giá trị tiếp theo. Tại bước tiếp theo, làm lại tương tự bước 0, nhưng *RNN* xét thông tin từ bước trước, cập nhật trạng thái, thêm nó vào input hiện tại.  \n",
    "Chúng ta xem thử một vài quá trình hoạt động của nó qua một vài ký tự xuất hiện đầu tiên trong văn bản."
   ]
  },
  {
   "cell_type": "code",
   "execution_count": 12,
   "metadata": {
    "colab": {
     "base_uri": "https://localhost:8080/",
     "height": 465
    },
    "colab_type": "code",
    "id": "8o5hnF6THhhF",
    "outputId": "d2d6f69e-87b5-4a5b-e685-7bc14a92138c"
   },
   "outputs": [
    {
     "name": "stdout",
     "output_type": "stream",
     "text": [
      "idx:  [117652]\n",
      "input_batch:  [array([26,  1, 27, 14, 32])]\n",
      "output_batch:  [array([ 1, 27, 14, 32, 27])]\n",
      "x_batch:  [[26  1 27 14 32]]\n",
      "y_batch:  [[ 1 27 14 32 27]]\n",
      "Step   0\n",
      "Input: 26 ('A')\n",
      "Expected output: 1, (' ')\n",
      "------------------\n",
      "Step   1\n",
      "Input: 1 (' ')\n",
      "Expected output: 27, ('B')\n",
      "------------------\n",
      "Step   2\n",
      "Input: 27 ('B')\n",
      "Expected output: 14, ('2')\n",
      "------------------\n",
      "Step   3\n",
      "Input: 14 ('2')\n",
      "Expected output: 32, ('G')\n",
      "------------------\n",
      "Step   4\n",
      "Input: 32 ('G')\n",
      "Expected output: 27, ('B')\n",
      "------------------\n"
     ]
    }
   ],
   "source": [
    "x_batch, y_batch = get_batch(vectorized_songs, seq_length=5, batch_size=1)\n",
    "for i, (input_idx, target_idx) in enumerate(zip(np.squeeze(x_batch), np.squeeze(y_batch))):\n",
    "  print(\"Step {:3d}\".format(i))\n",
    "  print(\"Input: {} ({:s})\".format(input_idx, repr(idx2char[input_idx])))\n",
    "  print(\"Expected output: {}, ({:s})\".format(target_idx, repr(idx2char[target_idx])))\n",
    "  print(\"------------------\")"
   ]
  },
  {
   "cell_type": "markdown",
   "metadata": {
    "colab_type": "text",
    "id": "c6-7b_refjdn"
   },
   "source": [
    "### The Recurrent Neural Network (RNN) model"
   ]
  },
  {
   "cell_type": "markdown",
   "metadata": {
    "colab_type": "text",
    "id": "8voANj6_foeB"
   },
   "source": [
    "Bây giờ chúng ta sẵn sàng cho việc định nghĩa và huấn luyện một *RNN model* trên bộ dữ liệu *ABC music* đã có sẵn, và sau đó sử dụng *model* đã được huấn luyện này để phát sinh một bản nhạc. Chúng ta sẽ huấn luyện cho *RNN* bằng việc sử dụng *batches ò song snippets* từ tập dữ liệu, cái mà chúng ta đã tạo ra từ phần trên.  \n",
    "*Model* cơ bản dựa trên kiến trúc mạng *LSTM*. Chúng ta sử dụng một *state vector* để chứa những thông tin chính về những mối quan hệ tạm thời giữa các ký tự liên tiếp. Kết quả cuối cùng của *LSTM* sau đó đưa vào một *fully connected Dense layer* nơi mà chúng ta sẽ tạo ra một *softmax* trên mỗi ký tự trong từ điển và sau đó lấy mẫu từ phân phối này để dự đoán cho ký tự tiếp theo.  \n",
    "Ở đây, chúng ta sử dụng [tf.keras.Sequential](https://www.tensorflow.org/api_docs/python/tf/keras/Sequential) để định nghĩa *model*. 3 Tầng được sử dụng để định nghĩa *model*:  \n",
    "* [tf.keras.layers.Embedding](https://www.tensorflow.org/api_docs/python/tf/keras/layers/Embedding): Đây là *input layer*, bao gồm bảng tra cứu ánh xạ những con số đại diện cho mỗi ký tự đến một *vector* với*embedding_dim dimensions*.\n",
    "* [tf.keras.layers.LSTM](https://www.tensorflow.org/api_docs/python/tf/keras/layers/LSTM): *LSTM network*, với kích thước *units=rnn_units*.\n",
    "* [tf.keras.layers.Dense](https://www.tensorflow.org/api_docs/python/tf/keras/layers/Dense): *ouput layers*, với *vocab_size*.\n",
    "\n",
    "![SEQUENCE_LENGTH](https://camo.githubusercontent.com/0889754930f51dcf4616d81ad097ecec05ba78f1/68747470733a2f2f7261772e67697468756275736572636f6e74656e742e636f6d2f61616d696e692f696e74726f746f646565706c6561726e696e672f323031392f6c6162312f696d672f6c73746d5f756e726f6c6c65642d30312d30312e706e67)"
   ]
  },
  {
   "cell_type": "markdown",
   "metadata": {
    "colab_type": "text",
    "id": "g1yD7IFhkm36"
   },
   "source": [
    "#### Define the RNN model"
   ]
  },
  {
   "cell_type": "markdown",
   "metadata": {
    "colab_type": "text",
    "id": "GVkK5xLokpsa"
   },
   "source": [
    "Bây giờ, chúng ta sẽ định nghĩa một hàm dể sử dụng cho việc xây dựng *model*"
   ]
  },
  {
   "cell_type": "code",
   "execution_count": 13,
   "metadata": {
    "colab": {},
    "colab_type": "code",
    "id": "9FO5KBS--6WX"
   },
   "outputs": [],
   "source": [
    "def LSTM(rnn_units):\n",
    "  return tf.keras.layers.LSTM(\n",
    "      rnn_units,\n",
    "      return_sequences=True,\n",
    "      recurrent_initializer = 'glorot_uniform',\n",
    "      recurrent_activation='sigmoid',\n",
    "      stateful=True,\n",
    "  )"
   ]
  },
  {
   "cell_type": "code",
   "execution_count": 14,
   "metadata": {
    "colab": {},
    "colab_type": "code",
    "id": "eWEDDaGGlIjN"
   },
   "outputs": [],
   "source": [
    "'''\n",
    "  Defining the RNN model\n",
    "  Add LSTM and Dense layers to define the RNN model using the Sequential API.\n",
    "'''\n",
    "def build_model(vocab_size, embedding_dim, rnn_units, batch_size):\n",
    "  model = tf.keras.Sequential([\n",
    "    # Layer 1: Embedding layer to transform indices into dense vectors of a fixed embedding size\n",
    "    tf.keras.layers.Embedding(vocab_size, embedding_dim, batch_input_shape=[batch_size, None]),\n",
    "    # Layer2: LSTM with 'run_units' number of units. \n",
    "    LSTM(rnn_units),\n",
    "    # Layer 3: Dense (fully-connect) layer that transforms the LSTM output into the vocabulary size.\n",
    "    tf.keras.layers.Dense(vocab_size)\n",
    "  ])\n",
    "\n",
    "  return model"
   ]
  },
  {
   "cell_type": "code",
   "execution_count": 15,
   "metadata": {
    "colab": {
     "base_uri": "https://localhost:8080/",
     "height": 35
    },
    "colab_type": "code",
    "id": "G2jJ3glGnAHc",
    "outputId": "138229ac-9843-4d13-bb49-e5d5af33f068"
   },
   "outputs": [
    {
     "data": {
      "text/plain": [
       "<tensorflow.python.keras.engine.sequential.Sequential at 0x7f02ccad2b38>"
      ]
     },
     "execution_count": 15,
     "metadata": {},
     "output_type": "execute_result"
    }
   ],
   "source": [
    "'''\n",
    "  Builds a simle model with default hyperparameters. \n",
    "  Gets the chance to change these later.\n",
    "'''\n",
    "model = build_model(len(vocab), embedding_dim=256, rnn_units=1024, batch_size=32)\n",
    "model"
   ]
  },
  {
   "cell_type": "markdown",
   "metadata": {
    "colab_type": "text",
    "id": "9gpExN8Fn2Ut"
   },
   "source": [
    "### Test out the RNN model"
   ]
  },
  {
   "cell_type": "markdown",
   "metadata": {
    "colab_type": "text",
    "id": "8DhtQgr6n4nE"
   },
   "source": [
    "Đầu tiên, chúng ta sử dụng hàm *model.summary* để in tóm tắt những hoạt động của *model*. Ở đây chúng ta có thể kiểm tra các *layer* trong *model*, *shape of output* cho mỗi *layer*, *batch_size*, ..."
   ]
  },
  {
   "cell_type": "code",
   "execution_count": 16,
   "metadata": {
    "colab": {
     "base_uri": "https://localhost:8080/",
     "height": 268
    },
    "colab_type": "code",
    "id": "YEu0QGXln1gp",
    "outputId": "89705a7d-9c3f-4844-a353-1f419a4b4259"
   },
   "outputs": [
    {
     "name": "stdout",
     "output_type": "stream",
     "text": [
      "Model: \"sequential\"\n",
      "_________________________________________________________________\n",
      "Layer (type)                 Output Shape              Param #   \n",
      "=================================================================\n",
      "embedding (Embedding)        (32, None, 256)           21248     \n",
      "_________________________________________________________________\n",
      "lstm (LSTM)                  (32, None, 1024)          5246976   \n",
      "_________________________________________________________________\n",
      "dense (Dense)                (32, None, 83)            85075     \n",
      "=================================================================\n",
      "Total params: 5,353,299\n",
      "Trainable params: 5,353,299\n",
      "Non-trainable params: 0\n",
      "_________________________________________________________________\n"
     ]
    }
   ],
   "source": [
    "model.summary()"
   ]
  },
  {
   "cell_type": "markdown",
   "metadata": {
    "colab_type": "text",
    "id": "DGv6l9D0pOwZ"
   },
   "source": [
    "Chúng ta có thể kiểm tra nhanh chiều của *output*, sử dụng *sequence length = 100*. Lưu ý *model* có thể chạy trên các *input* với bất kỳ kích thước nào."
   ]
  },
  {
   "cell_type": "code",
   "execution_count": 17,
   "metadata": {
    "colab": {
     "base_uri": "https://localhost:8080/",
     "height": 1000
    },
    "colab_type": "code",
    "id": "j9R_mdEBouoU",
    "outputId": "53e5731e-1f75-4a13-ab21-f884bafd4d6f"
   },
   "outputs": [
    {
     "name": "stdout",
     "output_type": "stream",
     "text": [
      "idx:  [ 99017  60266 146898  33331 187227 176832 109839  43561  27090  11122\n",
      " 154840 180693 110062 126063  95700 112234  87999 174820 152781  69131\n",
      "  93819  67621  98508 187706 156523 176147 127953 124748 194132 197023\n",
      " 107298  15816]\n",
      "input_batch:  [array([62, 27, 27, 14, 82, 59, 60, 61, 62,  1, 56, 61, 59, 61, 82, 62, 14,\n",
      "       57, 62,  1, 61, 14, 56, 61, 82, 62, 60, 61, 59,  1, 60, 59, 27, 14,\n",
      "       82,  2,  0, 56, 61, 59, 61,  1, 60, 59, 27, 58, 82, 59, 27, 26, 31,\n",
      "        1, 29, 30, 31, 29, 82, 30, 32, 24, 58, 26,  1, 27, 59, 62, 57, 82,\n",
      "       56, 61, 59, 61,  1, 60, 14, 22, 82,  2,  0,  0, 49, 22, 19, 13,  0,\n",
      "       45, 22, 29, 70, 62, 74,  1, 56, 68, 70, 69, 62,  1, 75, 63]), array([14, 60,  1, 56, 62, 61, 82, 60, 61, 62,  1, 56, 14, 61, 82,  2,  0,\n",
      "       62, 14, 60,  1, 56, 62, 60, 82, 59, 27, 32,  1, 32, 26, 27, 82, 58,\n",
      "       27, 26,  1, 27, 60, 59, 82, 58, 26, 26,  1, 26, 14, 22, 82,  2,  0,\n",
      "        0, 49, 22, 13,  0, 45, 22, 26, 69,  1, 28, 56, 64, 67, 64, 69,  1,\n",
      "       43, 76, 56,  0, 51, 22,  1, 64, 59, 22, 59, 58,  9, 68, 64, 74, 58,\n",
      "       60, 67, 67, 56, 69, 60, 70, 76, 74,  9, 13, 13,  0, 38, 22]), array([ 1, 59, 14, 22, 82,  2,  0, 60, 59, 82, 58, 26, 58, 26,  1, 27, 14,\n",
      "       60, 59, 82, 58, 26, 58, 26,  1, 30, 14, 60, 59, 82, 58, 26, 58, 26,\n",
      "        1, 27, 14, 60, 59, 82, 58, 14, 26, 14,  1, 26, 14, 22, 82,  2,  0,\n",
      "       36, 22, 26,  1, 29, 70, 73, 64, 56, 69,  0, 26, 27, 82, 58, 59, 60,\n",
      "       58,  1, 27, 58, 59, 27, 82, 26, 27, 26, 31,  1, 32, 31, 30, 14, 82,\n",
      "       58, 59, 60, 58,  1, 27, 58, 59, 27, 82, 58, 14, 26, 14,  1]), array([29, 73, 64, 69, 56, 62, 63,  0, 51, 22,  1, 64, 59, 22, 59, 58,  9,\n",
      "       65, 64, 62,  9, 17, 15,  0, 38, 22, 18, 11, 20,  0, 37, 22, 13, 11,\n",
      "       20,  0, 36, 22, 29,  1, 38, 56, 65, 70, 73,  0, 27, 82, 26, 31, 26,\n",
      "        1, 26, 27, 58, 82, 59, 61, 59,  1, 60, 58, 26, 82, 26, 31, 26,  1,\n",
      "       26, 27, 58, 82, 59, 27, 26,  1, 32, 31, 32, 82,  2,  0, 26, 31, 26,\n",
      "        1, 26, 27, 58, 82, 59, 61, 59,  1, 60, 58, 60, 82, 61, 59]), array([62, 14, 56, 82, 57, 14, 62,  1, 59, 15, 82, 57, 15,  1, 57, 56, 62,\n",
      "       82, 61, 14, 62,  1, 56, 61, 59, 82,  2,  0, 62, 14, 61,  1, 62, 14,\n",
      "       56, 82, 57, 14, 62,  1, 59, 14, 27, 82, 26, 27, 58,  1, 59, 60, 61,\n",
      "       82, 62, 15,  1, 62, 14, 22, 82,  2,  0, 60, 82, 59, 14, 27,  1, 27,\n",
      "       14, 32, 82, 29, 32, 27,  1, 59, 58, 27, 82, 58, 14, 26,  1, 26, 14,\n",
      "       31, 82, 29, 31, 26,  1, 58, 27, 58, 82,  2,  0, 59, 14, 27]), array([ 9, 74, 60, 75, 59, 56, 69, 58, 60,  9, 15,  0, 38, 22, 18, 11, 20,\n",
      "        0, 37, 22, 13, 11, 20,  0, 36, 22, 32,  1, 38, 56, 65, 70, 73,  0,\n",
      "       59, 82, 27, 26, 32,  1, 30, 14, 32, 82, 29, 14, 29,  1, 30, 32, 31,\n",
      "       82, 32, 14, 29,  1, 32, 26, 27, 82, 58, 14, 58,  1, 27, 26, 32, 82,\n",
      "       27, 59, 27,  1, 26, 14, 29, 82,  2,  0, 32, 26, 27,  1, 58, 14, 58,\n",
      "       82, 27, 26, 32,  1, 27, 59, 59, 82, 60, 59, 58,  1, 27, 26]), array([30, 14, 58, 26,  1, 27, 26, 31, 26, 82, 30, 15, 58,  1, 58, 27, 58,\n",
      "       26, 82, 27, 59, 58, 26,  1, 27, 26, 31, 26, 22, 82,  2,  0, 56, 61,\n",
      "       60, 58,  1, 26, 14, 58, 60, 82, 56, 60, 58, 60,  1, 61, 27, 27, 14,\n",
      "       82, 56, 61, 60, 58,  1, 26, 58, 60, 58, 82, 27, 58, 59, 60,  1, 61,\n",
      "       27, 27, 14, 22, 82,  2,  0, 60, 56, 56, 62,  1, 56, 15, 61, 82, 60,\n",
      "       56, 56, 14,  1, 61, 56, 60, 58, 82, 60, 56, 56, 62,  1, 56]), array([82,  2,  0, 31, 29, 29,  1, 58, 14, 26, 82, 59, 60, 59,  1, 58, 26,\n",
      "       31, 82, 32, 31, 32,  1, 32, 58, 26, 82, 32, 31, 32,  1, 32, 22, 82,\n",
      "        2,  0, 27, 59, 82, 61, 15,  1, 62, 15, 82, 56, 61, 59,  1, 58, 26,\n",
      "       32, 82, 26, 27, 26,  1, 26, 27, 32, 82, 26, 27, 26,  1, 26, 27, 59,\n",
      "       82,  2,  0, 61, 15,  1, 62, 15, 82, 56, 61, 59,  1, 58, 26, 31, 82,\n",
      "       32, 31, 32,  1, 32, 58, 26, 82, 32, 31, 32,  1, 32, 22, 82]), array([82, 60, 61, 62,  1, 59, 27, 32, 82, 58, 60, 60,  1, 59, 27, 26, 82,\n",
      "       27, 32, 32,  1, 32, 14, 82, 53,  2,  0,  0, 49, 22, 15, 20,  0, 45,\n",
      "       22, 31, 56, 74, 75, 60, 69,  1, 75, 63, 60,  1, 37, 60, 62, 62, 64,\n",
      "       69,  5,  0, 51, 22,  1, 64, 59, 22, 59, 58,  9, 65, 64, 62,  9, 15,\n",
      "       14,  0, 38, 22, 18, 11, 20,  0, 37, 22, 13, 11, 20,  0, 36, 22, 32,\n",
      "        1, 38, 56, 65, 70, 73,  0, 58, 82, 27, 15,  1, 27, 26, 27]), array([26, 27, 58, 26,  1, 31, 32, 26, 31, 82, 32, 27, 59, 62,  1, 60, 58,\n",
      "       26, 31, 82, 32, 14, 32, 31,  1, 32, 14, 22, 82,  2,  0, 27, 58, 82,\n",
      "       59, 60, 59, 58,  1, 27, 58, 59, 27, 82, 60, 61, 60, 59,  1, 58, 59,\n",
      "       60, 61, 82, 62, 61, 62, 59,  1, 60, 58, 26, 32, 82, 31, 32, 26, 31,\n",
      "        1, 29, 30, 31, 29, 82,  2,  0, 32, 26, 27, 32,  1, 30, 31, 32, 30,\n",
      "       82, 26, 27, 58, 26,  1, 31, 32, 26, 31, 82, 32, 27, 59, 62]), array([27, 32,  1, 30, 31, 31, 22, 82,  2,  0,  0, 49, 22, 14, 21, 17,  0,\n",
      "       45, 22, 41, 64, 71, 60, 73,  5, 74,  1, 29, 60, 74, 71, 56, 64, 73,\n",
      "        0, 51, 22,  1, 64, 59, 22, 59, 58,  9, 73, 60, 60, 67,  9, 14, 19,\n",
      "       16,  0, 38, 22, 28,  0, 37, 22, 13, 11, 20,  0, 36, 22, 29,  1, 38,\n",
      "       56, 65, 70, 73,  0, 30, 31, 32, 26,  1, 27, 26, 31, 26, 82, 59, 15,\n",
      "       58,  1, 59, 27, 26, 31, 82, 29, 14, 31, 29,  1, 26, 29, 31]), array([ 2,  0, 27,  8, 14, 30, 14,  1, 30, 31, 32, 26, 82, 27, 14, 60, 14,\n",
      "        1, 60, 59, 60, 61, 82, 60, 14, 27, 14,  1, 27, 26, 32, 31, 82, 30,\n",
      "       18,  9, 30, 22, 82,  2,  0,  0, 49, 22, 13, 19,  0, 45, 22, 37, 70,\n",
      "       59, 62, 60,  1, 43, 70, 56, 59,  0, 51, 22,  1, 64, 59, 22, 59, 58,\n",
      "        9, 74, 60, 75, 59, 56, 69, 58, 60,  9, 13, 20,  0, 38, 22, 28, 82,\n",
      "        0, 37, 22, 13, 11, 20,  0, 36, 22, 29,  1, 38, 56, 65, 70]), array([59, 82, 62, 60, 59, 27,  1, 60, 59, 27, 26, 82, 32, 14, 27, 32,  1,\n",
      "       29, 32, 27, 59, 82, 62, 60, 59, 27,  1, 60, 59, 60, 61, 82, 62, 15,\n",
      "       61,  1, 60, 61, 62, 56, 82,  2,  0, 57, 60, 60, 59,  1, 60, 59, 27,\n",
      "       26, 82, 32, 14, 27, 32,  1, 29, 32, 27, 59, 82, 60, 61, 62, 57,  1,\n",
      "       56, 59, 61, 56, 82, 62, 57, 56, 61,  1, 62, 14, 22, 82,  2,  0, 62,\n",
      "       56, 82, 57, 60, 60, 59,  1, 27, 59, 62, 60, 82, 59, 27, 27]), array([27, 29, 26, 29, 82, 30, 14, 27, 30,  1, 59, 30, 27, 30, 82, 27, 26,\n",
      "       27, 58,  1, 59, 27, 26, 31, 82,  2,  0, 29, 14, 26, 29,  1, 27, 29,\n",
      "       26, 29, 82, 29, 14, 26, 29,  1, 27, 29, 26, 29, 82, 32, 31, 30, 31,\n",
      "        1, 32, 26, 27, 58, 82, 59, 14, 61, 59,  1, 27, 59, 26, 22, 82,  2,\n",
      "        0, 27, 82, 59, 14, 61, 59,  1, 26, 59, 61, 56, 82, 62, 14, 61, 62,\n",
      "        1, 60, 59, 27, 58, 82, 59, 14, 61, 59,  1, 26, 59, 61, 56]), array([27, 27, 14, 82, 62, 14, 61, 62,  1, 60, 62, 59, 27, 82, 58, 14, 26,\n",
      "       58,  1, 27, 14, 32, 27, 82, 26, 32, 31, 26,  1, 32, 14, 82, 53,  2,\n",
      "        0,  0, 49, 22, 17, 18,  0, 45, 22, 28, 73, 70, 70, 66, 60, 59,  1,\n",
      "       43, 70, 56, 59,  0, 51, 22,  1, 64, 59, 22, 59, 58,  9, 73, 60, 60,\n",
      "       67,  9, 17, 12,  0, 38, 22, 28,  0, 37, 22, 13, 11, 20,  0, 36, 22,\n",
      "       32,  1, 38, 56, 65, 70, 73,  0, 32, 14, 26, 32,  1, 31, 32]), array([29,  1, 27, 29, 26, 31, 82,  2,  0, 30, 29, 30, 31,  1, 32, 31, 32,\n",
      "       26, 82, 27, 27, 62, 27,  1, 61, 27, 60, 58, 82, 59, 58, 59, 60,  1,\n",
      "       59, 27, 26, 31, 82, 29, 31, 26, 31,  1, 31, 30, 30, 22, 82,  2,  0,\n",
      "       26, 82, 27, 60, 60, 14,  1, 27, 60, 60, 14, 82, 27, 60, 60, 61,  1,\n",
      "       60, 59, 27, 58, 82, 59, 26, 26, 14,  1, 61, 26, 26, 14, 82, 59, 58,\n",
      "       59, 60,  1, 59, 27, 26, 31, 82,  2,  0, 30, 29, 30, 31,  1]), array([26, 14, 59, 27, 82, 58, 26, 32, 31,  1, 30, 28, 28, 30, 82, 29, 30,\n",
      "       31, 32,  1, 26, 59, 59, 58, 82, 26, 58, 32, 58,  1, 26, 29, 29, 22,\n",
      "       82,  2,  0, 26, 82, 59, 58, 26, 32,  1, 26, 58, 59, 60, 82, 61, 26,\n",
      "       59, 61,  1, 60, 58, 26, 27, 82, 58, 26, 32, 30,  1, 32, 26, 58, 59,\n",
      "       82, 60, 58, 58, 14,  1, 60, 56, 62, 60, 82,  2,  0, 59, 58, 26, 32,\n",
      "        1, 26, 58, 59, 60, 82, 61, 26, 59, 61,  1, 60, 58, 26, 32]), array([31, 26, 26, 27,  1, 26, 31, 30, 29, 82, 59, 14, 60, 62,  1, 61, 59,\n",
      "       60, 58, 82, 52, 13,  1, 59, 27, 26, 31,  1, 27, 30, 30, 14, 22, 82,\n",
      "       52, 14,  1, 59, 27, 26, 32,  1, 31, 29, 29, 14, 82, 53,  2,  0, 59,\n",
      "       27, 26, 32,  1, 31, 29, 31, 26, 82, 59, 61, 56, 61,  1, 62, 61, 60,\n",
      "       62, 82, 61, 26, 59, 61,  1, 60, 26, 58, 60, 82, 59, 61, 60, 59,  1,\n",
      "       58, 26, 26, 14, 82,  2,  0, 27, 29, 32, 27,  1, 26, 29, 31]), array([73, 60, 60,  0, 51, 22,  1, 64, 59, 22, 59, 58,  9, 73, 60, 60, 67,\n",
      "        9, 14, 18, 18,  0, 38, 22, 28,  0, 37, 22, 13, 11, 20,  0, 36, 22,\n",
      "       29,  1, 38, 56, 65, 70, 73,  0, 26, 31, 31, 14,  1, 26, 59, 61, 56,\n",
      "       82, 62, 14, 56, 62,  1, 61, 59, 59, 61, 82, 60, 26, 26, 14,  1, 59,\n",
      "       24, 58, 26, 31, 82, 32, 14, 26, 31,  1, 32, 31, 60, 24, 58, 82,  2,\n",
      "        0, 26, 31, 31, 14,  1, 26, 59, 61, 56, 82, 62, 14, 56, 62]), array([21,  0, 38, 22, 15, 11, 16,  0, 37, 22, 13, 11, 20,  0, 36, 22, 29,\n",
      "        1, 38, 56, 65, 70, 73,  0, 26, 14, 82, 59, 14,  1, 59, 60,  1, 61,\n",
      "       60, 82, 59, 14,  1, 60, 59,  1, 58, 27, 82, 26, 14,  1, 31, 14,  1,\n",
      "       26, 14, 82, 61, 16,  1, 61, 60, 82, 59, 14,  1, 60, 59,  1, 58, 27,\n",
      "       82, 26, 14,  1, 32, 14,  1, 31, 14, 82, 32, 14,  1, 27, 26,  1, 32,\n",
      "       31, 82, 30, 16,  1, 56, 62, 82,  2,  0, 61, 15,  1, 60,  1]), array([51, 22,  1, 64, 59, 22, 59, 58,  9, 73, 60, 60, 67,  9, 16, 15,  0,\n",
      "       38, 22, 28,  0, 37, 22, 13, 11, 20,  0, 36, 22, 29,  1, 38, 64, 79,\n",
      "       70, 67, 80, 59, 64, 56, 69,  0, 31, 15, 32,  1, 26, 14, 27, 32, 82,\n",
      "       26, 14, 27, 32,  1, 26, 32, 31, 29, 82, 31, 15, 32,  1, 26, 14, 32,\n",
      "       31, 82, 29, 32, 32, 14,  1, 58, 26, 26, 32, 22, 82,  2,  0, 61, 59,\n",
      "       60, 54, 58,  1, 59, 14, 24, 58, 26, 82, 26, 14, 27, 32,  1]), array([14, 82, 59, 58, 27, 26,  1, 27, 14, 58, 14, 82, 59, 16,  1, 59, 14,\n",
      "       22, 82,  2,  0, 61, 62, 82, 56, 14, 61, 14,  1, 59, 14, 26, 14, 82,\n",
      "       56, 62, 61, 60,  1, 59, 60, 62, 56, 82, 57, 14, 62, 14,  1, 60, 14,\n",
      "       57, 14, 82, 57, 56, 62, 61,  1, 60, 61, 62, 60, 82,  2,  0, 56, 62,\n",
      "       61, 60,  1, 61, 62, 56, 61, 82, 60, 59, 58, 27,  1, 58, 59, 60, 58,\n",
      "       82, 59, 27, 32, 27,  1, 29, 27, 32, 27, 82,  2,  0, 60, 58]), array([62, 57, 56, 61,  1, 62, 59, 27, 59, 82, 62, 59, 27, 59,  1, 62, 59,\n",
      "       27, 32, 82, 31, 32, 26, 27,  1, 58, 59, 60, 61, 82,  2,  0, 62, 15,\n",
      "       56,  1, 62, 59, 27, 59, 82, 62, 57, 56, 61,  1, 62, 61, 60, 59, 82,\n",
      "       27, 59, 60, 61,  1, 62, 61, 62, 59, 82, 27, 59, 62, 59,  1, 27, 32,\n",
      "       32, 22, 82,  2,  0,  0, 49, 22, 18, 21,  0, 45, 22, 29, 64, 69, 66,\n",
      "       80,  5, 74,  0, 51, 22,  1, 64, 59, 22, 59, 58,  9, 73, 60]), array([59, 59,  1, 60, 59, 59, 82, 61, 15,  1, 60, 59, 26, 82, 27, 60, 60,\n",
      "        1, 60, 14, 59, 82, 27, 60, 60,  1, 60, 15, 82,  2,  0, 61, 59, 59,\n",
      "        1, 60, 59, 59, 82, 61, 15,  1, 60, 59, 26, 82, 27, 59, 59,  1, 59,\n",
      "       14, 26, 82, 27, 59, 59,  1, 59, 14, 22, 82,  2,  0,  0, 49, 22, 13,\n",
      "       17,  0, 45, 22, 37, 64, 74, 63, 60, 60, 69,  0, 51, 22,  1, 64, 59,\n",
      "       22, 59, 58,  9, 74, 67, 64, 59, 60,  9, 13, 18,  0, 38, 22]), array([ 1, 57, 62, 56, 62, 82, 59, 32, 32, 14,  1, 59, 14, 60, 62, 82, 61,\n",
      "       59, 58, 26,  1, 26, 32, 32, 27, 82,  2,  0, 59, 32, 32, 14,  1, 59,\n",
      "       32, 27, 59, 82, 62, 15, 56,  1, 57, 62, 56, 61, 82, 62, 15, 56,  1,\n",
      "       57, 62, 56, 62, 82, 61, 59, 58, 26,  1, 26, 32, 32, 82, 53,  2,  0,\n",
      "        0, 49, 22, 15, 12, 15,  0, 45, 22, 43, 60, 58, 70, 69, 58, 64, 67,\n",
      "       64, 56, 75, 64, 70, 69,  0, 51, 22,  1, 64, 59, 22, 59, 58]), array([59, 60, 58, 82, 59, 27, 26, 31,  1, 27, 30, 30, 14, 82, 53,  2,  0,\n",
      "        0, 49, 22, 13,  0, 45, 22, 26, 58, 60,  1, 56, 69, 59,  1, 29, 60,\n",
      "       76, 58, 60,  1, 70, 61,  1, 41, 64, 71, 60, 73, 64, 69, 62,  0, 51,\n",
      "       22,  1, 64, 59, 22, 59, 58,  9, 74, 60, 75, 59, 56, 69, 58, 60,  9,\n",
      "       13,  0, 38, 22, 28, 82,  0, 37, 22, 13, 11, 20,  0, 36, 22, 32,  1,\n",
      "       38, 56, 65, 70, 73,  0, 59, 58, 82, 27, 14, 58, 26,  1, 27]), array([52, 14,  1, 58, 26, 26, 14,  1, 58, 26, 31, 26, 82, 32, 29, 27,  8,\n",
      "       29,  1, 32,  8, 29, 27,  8, 29, 82, 58, 14, 58, 27,  1, 58, 60, 59,\n",
      "       27, 82, 32, 26, 27, 32,  1, 26, 15, 82, 53,  2,  0,  0, 49, 22, 13,\n",
      "       20, 20,  0, 45, 22, 36, 69, 70, 75, 75, 60, 59,  1, 28, 70, 73, 59,\n",
      "        0, 51, 22,  1, 64, 59, 22, 59, 58,  9, 73, 60, 60, 67,  9, 13, 19,\n",
      "       13,  0, 38, 22, 28,  0, 37, 22, 13, 11, 20,  0, 36, 22, 26]), array([60, 59, 27, 58,  1, 59, 27, 26, 14, 82, 27, 60, 60, 58,  1, 59, 14,\n",
      "       61, 59, 82, 60, 59, 27, 58,  1, 59, 15, 26, 82,  2,  0, 27, 60, 60,\n",
      "       58,  1, 59, 14, 61, 59, 82, 60, 59, 27, 58,  1, 59, 27, 26, 61, 82,\n",
      "       62, 14, 62, 60,  1, 61, 14, 61, 60, 82, 59, 27, 26, 27,  1, 60, 15,\n",
      "       82, 53,  2,  0,  0, 49, 22, 13, 19, 18,  0, 45, 22, 36, 60, 77, 64,\n",
      "       69,  1, 36, 60, 60, 62, 56, 69,  0, 51, 22,  1, 64, 59, 22]), array([ 0, 36, 22, 32,  1, 38, 56, 65, 70, 73,  0, 59, 60, 59,  1, 27, 32,\n",
      "       27,  1, 27, 32, 27, 82, 59, 60, 59,  1, 27, 32, 27,  1, 58, 27, 26,\n",
      "       82, 59, 60, 59,  1, 27, 32, 27,  1, 27, 32, 27, 82, 58, 27, 58,  1,\n",
      "       26, 14, 27,  1, 58, 27, 26, 22, 82,  2,  0, 32, 27, 59,  1, 62, 59,\n",
      "       27,  1, 62, 59, 27, 82, 32, 27, 59,  1, 62, 59, 27,  1, 58, 27, 26,\n",
      "       82, 32, 27, 59,  1, 62, 59, 27,  1, 62, 59, 27, 82, 58, 27]), array([53,  2,  0,  0, 49, 22, 14, 13,  0, 45, 22, 44, 78, 56, 62, 62, 60,\n",
      "       73, 64, 69, 62,  0, 51, 22,  1, 64, 59, 22, 59, 58,  9, 74, 67, 64,\n",
      "       71, 65, 64, 62,  9, 13, 13,  0, 38, 22, 21, 11, 20,  0, 37, 22, 13,\n",
      "       11, 20,  0, 36, 22, 32,  1, 38, 56, 65, 70, 73,  0, 27, 26, 32,  1,\n",
      "       26, 32, 30,  1, 29, 30, 32, 82, 27, 26, 32,  1, 32, 31, 32,  1, 26,\n",
      "       27, 58, 82, 27, 26, 32,  1, 26, 32, 30,  1, 29, 30, 32, 82]), array([68, 60, 73,  0, 51, 22,  1, 64, 59, 22, 59, 58,  9, 73, 60, 60, 67,\n",
      "        9, 21, 19,  0, 38, 22, 28,  0, 37, 22, 13, 11, 20,  0, 36, 22, 29,\n",
      "        1, 38, 56, 65, 70, 73,  0, 60, 82, 59, 27, 27, 14,  1, 26, 14, 31,\n",
      "       26, 82, 59, 14, 59, 54, 58,  1, 59, 60, 61, 60, 82, 59, 27, 27, 14,\n",
      "        1, 26, 14, 31, 26, 82, 27, 60, 60, 59,  1, 60, 61, 61, 60, 82,  2,\n",
      "        0, 59, 27, 27, 14,  1, 26, 14, 31, 26, 82, 59, 14, 59, 54]), array([27, 26, 82, 58, 14, 58, 14,  1, 58, 59, 60, 14, 82, 58, 14, 58, 14,\n",
      "        1, 58, 59, 60, 14, 82,  2,  0, 56, 62, 61, 56,  1, 62, 61, 60, 62,\n",
      "       82, 61, 60, 59, 61,  1, 60, 59, 27, 26, 82, 59, 14, 59, 14,  1, 60,\n",
      "       61, 62, 60, 82, 61, 14, 59, 14,  1, 59, 14, 22, 82,  2,  0,  0, 49,\n",
      "       22, 18, 13,  0, 45, 22, 45, 56, 64, 67, 70, 73,  5, 74,  1, 45, 78,\n",
      "       64, 74, 75,  0, 51, 22,  1, 64, 59, 22, 59, 58,  9, 63, 70])]\n",
      "output_batch:  [array([27, 27, 14, 82, 59, 60, 61, 62,  1, 56, 61, 59, 61, 82, 62, 14, 57,\n",
      "       62,  1, 61, 14, 56, 61, 82, 62, 60, 61, 59,  1, 60, 59, 27, 14, 82,\n",
      "        2,  0, 56, 61, 59, 61,  1, 60, 59, 27, 58, 82, 59, 27, 26, 31,  1,\n",
      "       29, 30, 31, 29, 82, 30, 32, 24, 58, 26,  1, 27, 59, 62, 57, 82, 56,\n",
      "       61, 59, 61,  1, 60, 14, 22, 82,  2,  0,  0, 49, 22, 19, 13,  0, 45,\n",
      "       22, 29, 70, 62, 74,  1, 56, 68, 70, 69, 62,  1, 75, 63, 60]), array([60,  1, 56, 62, 61, 82, 60, 61, 62,  1, 56, 14, 61, 82,  2,  0, 62,\n",
      "       14, 60,  1, 56, 62, 60, 82, 59, 27, 32,  1, 32, 26, 27, 82, 58, 27,\n",
      "       26,  1, 27, 60, 59, 82, 58, 26, 26,  1, 26, 14, 22, 82,  2,  0,  0,\n",
      "       49, 22, 13,  0, 45, 22, 26, 69,  1, 28, 56, 64, 67, 64, 69,  1, 43,\n",
      "       76, 56,  0, 51, 22,  1, 64, 59, 22, 59, 58,  9, 68, 64, 74, 58, 60,\n",
      "       67, 67, 56, 69, 60, 70, 76, 74,  9, 13, 13,  0, 38, 22, 14]), array([59, 14, 22, 82,  2,  0, 60, 59, 82, 58, 26, 58, 26,  1, 27, 14, 60,\n",
      "       59, 82, 58, 26, 58, 26,  1, 30, 14, 60, 59, 82, 58, 26, 58, 26,  1,\n",
      "       27, 14, 60, 59, 82, 58, 14, 26, 14,  1, 26, 14, 22, 82,  2,  0, 36,\n",
      "       22, 26,  1, 29, 70, 73, 64, 56, 69,  0, 26, 27, 82, 58, 59, 60, 58,\n",
      "        1, 27, 58, 59, 27, 82, 26, 27, 26, 31,  1, 32, 31, 30, 14, 82, 58,\n",
      "       59, 60, 58,  1, 27, 58, 59, 27, 82, 58, 14, 26, 14,  1, 26]), array([73, 64, 69, 56, 62, 63,  0, 51, 22,  1, 64, 59, 22, 59, 58,  9, 65,\n",
      "       64, 62,  9, 17, 15,  0, 38, 22, 18, 11, 20,  0, 37, 22, 13, 11, 20,\n",
      "        0, 36, 22, 29,  1, 38, 56, 65, 70, 73,  0, 27, 82, 26, 31, 26,  1,\n",
      "       26, 27, 58, 82, 59, 61, 59,  1, 60, 58, 26, 82, 26, 31, 26,  1, 26,\n",
      "       27, 58, 82, 59, 27, 26,  1, 32, 31, 32, 82,  2,  0, 26, 31, 26,  1,\n",
      "       26, 27, 58, 82, 59, 61, 59,  1, 60, 58, 60, 82, 61, 59, 61]), array([14, 56, 82, 57, 14, 62,  1, 59, 15, 82, 57, 15,  1, 57, 56, 62, 82,\n",
      "       61, 14, 62,  1, 56, 61, 59, 82,  2,  0, 62, 14, 61,  1, 62, 14, 56,\n",
      "       82, 57, 14, 62,  1, 59, 14, 27, 82, 26, 27, 58,  1, 59, 60, 61, 82,\n",
      "       62, 15,  1, 62, 14, 22, 82,  2,  0, 60, 82, 59, 14, 27,  1, 27, 14,\n",
      "       32, 82, 29, 32, 27,  1, 59, 58, 27, 82, 58, 14, 26,  1, 26, 14, 31,\n",
      "       82, 29, 31, 26,  1, 58, 27, 58, 82,  2,  0, 59, 14, 27,  1]), array([74, 60, 75, 59, 56, 69, 58, 60,  9, 15,  0, 38, 22, 18, 11, 20,  0,\n",
      "       37, 22, 13, 11, 20,  0, 36, 22, 32,  1, 38, 56, 65, 70, 73,  0, 59,\n",
      "       82, 27, 26, 32,  1, 30, 14, 32, 82, 29, 14, 29,  1, 30, 32, 31, 82,\n",
      "       32, 14, 29,  1, 32, 26, 27, 82, 58, 14, 58,  1, 27, 26, 32, 82, 27,\n",
      "       59, 27,  1, 26, 14, 29, 82,  2,  0, 32, 26, 27,  1, 58, 14, 58, 82,\n",
      "       27, 26, 32,  1, 27, 59, 59, 82, 60, 59, 58,  1, 27, 26, 32]), array([14, 58, 26,  1, 27, 26, 31, 26, 82, 30, 15, 58,  1, 58, 27, 58, 26,\n",
      "       82, 27, 59, 58, 26,  1, 27, 26, 31, 26, 22, 82,  2,  0, 56, 61, 60,\n",
      "       58,  1, 26, 14, 58, 60, 82, 56, 60, 58, 60,  1, 61, 27, 27, 14, 82,\n",
      "       56, 61, 60, 58,  1, 26, 58, 60, 58, 82, 27, 58, 59, 60,  1, 61, 27,\n",
      "       27, 14, 22, 82,  2,  0, 60, 56, 56, 62,  1, 56, 15, 61, 82, 60, 56,\n",
      "       56, 14,  1, 61, 56, 60, 58, 82, 60, 56, 56, 62,  1, 56, 15]), array([ 2,  0, 31, 29, 29,  1, 58, 14, 26, 82, 59, 60, 59,  1, 58, 26, 31,\n",
      "       82, 32, 31, 32,  1, 32, 58, 26, 82, 32, 31, 32,  1, 32, 22, 82,  2,\n",
      "        0, 27, 59, 82, 61, 15,  1, 62, 15, 82, 56, 61, 59,  1, 58, 26, 32,\n",
      "       82, 26, 27, 26,  1, 26, 27, 32, 82, 26, 27, 26,  1, 26, 27, 59, 82,\n",
      "        2,  0, 61, 15,  1, 62, 15, 82, 56, 61, 59,  1, 58, 26, 31, 82, 32,\n",
      "       31, 32,  1, 32, 58, 26, 82, 32, 31, 32,  1, 32, 22, 82,  2]), array([60, 61, 62,  1, 59, 27, 32, 82, 58, 60, 60,  1, 59, 27, 26, 82, 27,\n",
      "       32, 32,  1, 32, 14, 82, 53,  2,  0,  0, 49, 22, 15, 20,  0, 45, 22,\n",
      "       31, 56, 74, 75, 60, 69,  1, 75, 63, 60,  1, 37, 60, 62, 62, 64, 69,\n",
      "        5,  0, 51, 22,  1, 64, 59, 22, 59, 58,  9, 65, 64, 62,  9, 15, 14,\n",
      "        0, 38, 22, 18, 11, 20,  0, 37, 22, 13, 11, 20,  0, 36, 22, 32,  1,\n",
      "       38, 56, 65, 70, 73,  0, 58, 82, 27, 15,  1, 27, 26, 27, 82]), array([27, 58, 26,  1, 31, 32, 26, 31, 82, 32, 27, 59, 62,  1, 60, 58, 26,\n",
      "       31, 82, 32, 14, 32, 31,  1, 32, 14, 22, 82,  2,  0, 27, 58, 82, 59,\n",
      "       60, 59, 58,  1, 27, 58, 59, 27, 82, 60, 61, 60, 59,  1, 58, 59, 60,\n",
      "       61, 82, 62, 61, 62, 59,  1, 60, 58, 26, 32, 82, 31, 32, 26, 31,  1,\n",
      "       29, 30, 31, 29, 82,  2,  0, 32, 26, 27, 32,  1, 30, 31, 32, 30, 82,\n",
      "       26, 27, 58, 26,  1, 31, 32, 26, 31, 82, 32, 27, 59, 62,  1]), array([32,  1, 30, 31, 31, 22, 82,  2,  0,  0, 49, 22, 14, 21, 17,  0, 45,\n",
      "       22, 41, 64, 71, 60, 73,  5, 74,  1, 29, 60, 74, 71, 56, 64, 73,  0,\n",
      "       51, 22,  1, 64, 59, 22, 59, 58,  9, 73, 60, 60, 67,  9, 14, 19, 16,\n",
      "        0, 38, 22, 28,  0, 37, 22, 13, 11, 20,  0, 36, 22, 29,  1, 38, 56,\n",
      "       65, 70, 73,  0, 30, 31, 32, 26,  1, 27, 26, 31, 26, 82, 59, 15, 58,\n",
      "        1, 59, 27, 26, 31, 82, 29, 14, 31, 29,  1, 26, 29, 31, 26]), array([ 0, 27,  8, 14, 30, 14,  1, 30, 31, 32, 26, 82, 27, 14, 60, 14,  1,\n",
      "       60, 59, 60, 61, 82, 60, 14, 27, 14,  1, 27, 26, 32, 31, 82, 30, 18,\n",
      "        9, 30, 22, 82,  2,  0,  0, 49, 22, 13, 19,  0, 45, 22, 37, 70, 59,\n",
      "       62, 60,  1, 43, 70, 56, 59,  0, 51, 22,  1, 64, 59, 22, 59, 58,  9,\n",
      "       74, 60, 75, 59, 56, 69, 58, 60,  9, 13, 20,  0, 38, 22, 28, 82,  0,\n",
      "       37, 22, 13, 11, 20,  0, 36, 22, 29,  1, 38, 56, 65, 70, 73]), array([82, 62, 60, 59, 27,  1, 60, 59, 27, 26, 82, 32, 14, 27, 32,  1, 29,\n",
      "       32, 27, 59, 82, 62, 60, 59, 27,  1, 60, 59, 60, 61, 82, 62, 15, 61,\n",
      "        1, 60, 61, 62, 56, 82,  2,  0, 57, 60, 60, 59,  1, 60, 59, 27, 26,\n",
      "       82, 32, 14, 27, 32,  1, 29, 32, 27, 59, 82, 60, 61, 62, 57,  1, 56,\n",
      "       59, 61, 56, 82, 62, 57, 56, 61,  1, 62, 14, 22, 82,  2,  0, 62, 56,\n",
      "       82, 57, 60, 60, 59,  1, 27, 59, 62, 60, 82, 59, 27, 27, 14]), array([29, 26, 29, 82, 30, 14, 27, 30,  1, 59, 30, 27, 30, 82, 27, 26, 27,\n",
      "       58,  1, 59, 27, 26, 31, 82,  2,  0, 29, 14, 26, 29,  1, 27, 29, 26,\n",
      "       29, 82, 29, 14, 26, 29,  1, 27, 29, 26, 29, 82, 32, 31, 30, 31,  1,\n",
      "       32, 26, 27, 58, 82, 59, 14, 61, 59,  1, 27, 59, 26, 22, 82,  2,  0,\n",
      "       27, 82, 59, 14, 61, 59,  1, 26, 59, 61, 56, 82, 62, 14, 61, 62,  1,\n",
      "       60, 59, 27, 58, 82, 59, 14, 61, 59,  1, 26, 59, 61, 56, 82]), array([27, 14, 82, 62, 14, 61, 62,  1, 60, 62, 59, 27, 82, 58, 14, 26, 58,\n",
      "        1, 27, 14, 32, 27, 82, 26, 32, 31, 26,  1, 32, 14, 82, 53,  2,  0,\n",
      "        0, 49, 22, 17, 18,  0, 45, 22, 28, 73, 70, 70, 66, 60, 59,  1, 43,\n",
      "       70, 56, 59,  0, 51, 22,  1, 64, 59, 22, 59, 58,  9, 73, 60, 60, 67,\n",
      "        9, 17, 12,  0, 38, 22, 28,  0, 37, 22, 13, 11, 20,  0, 36, 22, 32,\n",
      "        1, 38, 56, 65, 70, 73,  0, 32, 14, 26, 32,  1, 31, 32, 26]), array([ 1, 27, 29, 26, 31, 82,  2,  0, 30, 29, 30, 31,  1, 32, 31, 32, 26,\n",
      "       82, 27, 27, 62, 27,  1, 61, 27, 60, 58, 82, 59, 58, 59, 60,  1, 59,\n",
      "       27, 26, 31, 82, 29, 31, 26, 31,  1, 31, 30, 30, 22, 82,  2,  0, 26,\n",
      "       82, 27, 60, 60, 14,  1, 27, 60, 60, 14, 82, 27, 60, 60, 61,  1, 60,\n",
      "       59, 27, 58, 82, 59, 26, 26, 14,  1, 61, 26, 26, 14, 82, 59, 58, 59,\n",
      "       60,  1, 59, 27, 26, 31, 82,  2,  0, 30, 29, 30, 31,  1, 32]), array([14, 59, 27, 82, 58, 26, 32, 31,  1, 30, 28, 28, 30, 82, 29, 30, 31,\n",
      "       32,  1, 26, 59, 59, 58, 82, 26, 58, 32, 58,  1, 26, 29, 29, 22, 82,\n",
      "        2,  0, 26, 82, 59, 58, 26, 32,  1, 26, 58, 59, 60, 82, 61, 26, 59,\n",
      "       61,  1, 60, 58, 26, 27, 82, 58, 26, 32, 30,  1, 32, 26, 58, 59, 82,\n",
      "       60, 58, 58, 14,  1, 60, 56, 62, 60, 82,  2,  0, 59, 58, 26, 32,  1,\n",
      "       26, 58, 59, 60, 82, 61, 26, 59, 61,  1, 60, 58, 26, 32, 82]), array([26, 26, 27,  1, 26, 31, 30, 29, 82, 59, 14, 60, 62,  1, 61, 59, 60,\n",
      "       58, 82, 52, 13,  1, 59, 27, 26, 31,  1, 27, 30, 30, 14, 22, 82, 52,\n",
      "       14,  1, 59, 27, 26, 32,  1, 31, 29, 29, 14, 82, 53,  2,  0, 59, 27,\n",
      "       26, 32,  1, 31, 29, 31, 26, 82, 59, 61, 56, 61,  1, 62, 61, 60, 62,\n",
      "       82, 61, 26, 59, 61,  1, 60, 26, 58, 60, 82, 59, 61, 60, 59,  1, 58,\n",
      "       26, 26, 14, 82,  2,  0, 27, 29, 32, 27,  1, 26, 29, 31, 26]), array([60, 60,  0, 51, 22,  1, 64, 59, 22, 59, 58,  9, 73, 60, 60, 67,  9,\n",
      "       14, 18, 18,  0, 38, 22, 28,  0, 37, 22, 13, 11, 20,  0, 36, 22, 29,\n",
      "        1, 38, 56, 65, 70, 73,  0, 26, 31, 31, 14,  1, 26, 59, 61, 56, 82,\n",
      "       62, 14, 56, 62,  1, 61, 59, 59, 61, 82, 60, 26, 26, 14,  1, 59, 24,\n",
      "       58, 26, 31, 82, 32, 14, 26, 31,  1, 32, 31, 60, 24, 58, 82,  2,  0,\n",
      "       26, 31, 31, 14,  1, 26, 59, 61, 56, 82, 62, 14, 56, 62,  1]), array([ 0, 38, 22, 15, 11, 16,  0, 37, 22, 13, 11, 20,  0, 36, 22, 29,  1,\n",
      "       38, 56, 65, 70, 73,  0, 26, 14, 82, 59, 14,  1, 59, 60,  1, 61, 60,\n",
      "       82, 59, 14,  1, 60, 59,  1, 58, 27, 82, 26, 14,  1, 31, 14,  1, 26,\n",
      "       14, 82, 61, 16,  1, 61, 60, 82, 59, 14,  1, 60, 59,  1, 58, 27, 82,\n",
      "       26, 14,  1, 32, 14,  1, 31, 14, 82, 32, 14,  1, 27, 26,  1, 32, 31,\n",
      "       82, 30, 16,  1, 56, 62, 82,  2,  0, 61, 15,  1, 60,  1, 59]), array([22,  1, 64, 59, 22, 59, 58,  9, 73, 60, 60, 67,  9, 16, 15,  0, 38,\n",
      "       22, 28,  0, 37, 22, 13, 11, 20,  0, 36, 22, 29,  1, 38, 64, 79, 70,\n",
      "       67, 80, 59, 64, 56, 69,  0, 31, 15, 32,  1, 26, 14, 27, 32, 82, 26,\n",
      "       14, 27, 32,  1, 26, 32, 31, 29, 82, 31, 15, 32,  1, 26, 14, 32, 31,\n",
      "       82, 29, 32, 32, 14,  1, 58, 26, 26, 32, 22, 82,  2,  0, 61, 59, 60,\n",
      "       54, 58,  1, 59, 14, 24, 58, 26, 82, 26, 14, 27, 32,  1, 26]), array([82, 59, 58, 27, 26,  1, 27, 14, 58, 14, 82, 59, 16,  1, 59, 14, 22,\n",
      "       82,  2,  0, 61, 62, 82, 56, 14, 61, 14,  1, 59, 14, 26, 14, 82, 56,\n",
      "       62, 61, 60,  1, 59, 60, 62, 56, 82, 57, 14, 62, 14,  1, 60, 14, 57,\n",
      "       14, 82, 57, 56, 62, 61,  1, 60, 61, 62, 60, 82,  2,  0, 56, 62, 61,\n",
      "       60,  1, 61, 62, 56, 61, 82, 60, 59, 58, 27,  1, 58, 59, 60, 58, 82,\n",
      "       59, 27, 32, 27,  1, 29, 27, 32, 27, 82,  2,  0, 60, 58, 26]), array([57, 56, 61,  1, 62, 59, 27, 59, 82, 62, 59, 27, 59,  1, 62, 59, 27,\n",
      "       32, 82, 31, 32, 26, 27,  1, 58, 59, 60, 61, 82,  2,  0, 62, 15, 56,\n",
      "        1, 62, 59, 27, 59, 82, 62, 57, 56, 61,  1, 62, 61, 60, 59, 82, 27,\n",
      "       59, 60, 61,  1, 62, 61, 62, 59, 82, 27, 59, 62, 59,  1, 27, 32, 32,\n",
      "       22, 82,  2,  0,  0, 49, 22, 18, 21,  0, 45, 22, 29, 64, 69, 66, 80,\n",
      "        5, 74,  0, 51, 22,  1, 64, 59, 22, 59, 58,  9, 73, 60, 60]), array([59,  1, 60, 59, 59, 82, 61, 15,  1, 60, 59, 26, 82, 27, 60, 60,  1,\n",
      "       60, 14, 59, 82, 27, 60, 60,  1, 60, 15, 82,  2,  0, 61, 59, 59,  1,\n",
      "       60, 59, 59, 82, 61, 15,  1, 60, 59, 26, 82, 27, 59, 59,  1, 59, 14,\n",
      "       26, 82, 27, 59, 59,  1, 59, 14, 22, 82,  2,  0,  0, 49, 22, 13, 17,\n",
      "        0, 45, 22, 37, 64, 74, 63, 60, 60, 69,  0, 51, 22,  1, 64, 59, 22,\n",
      "       59, 58,  9, 74, 67, 64, 59, 60,  9, 13, 18,  0, 38, 22, 18]), array([57, 62, 56, 62, 82, 59, 32, 32, 14,  1, 59, 14, 60, 62, 82, 61, 59,\n",
      "       58, 26,  1, 26, 32, 32, 27, 82,  2,  0, 59, 32, 32, 14,  1, 59, 32,\n",
      "       27, 59, 82, 62, 15, 56,  1, 57, 62, 56, 61, 82, 62, 15, 56,  1, 57,\n",
      "       62, 56, 62, 82, 61, 59, 58, 26,  1, 26, 32, 32, 82, 53,  2,  0,  0,\n",
      "       49, 22, 15, 12, 15,  0, 45, 22, 43, 60, 58, 70, 69, 58, 64, 67, 64,\n",
      "       56, 75, 64, 70, 69,  0, 51, 22,  1, 64, 59, 22, 59, 58,  9]), array([60, 58, 82, 59, 27, 26, 31,  1, 27, 30, 30, 14, 82, 53,  2,  0,  0,\n",
      "       49, 22, 13,  0, 45, 22, 26, 58, 60,  1, 56, 69, 59,  1, 29, 60, 76,\n",
      "       58, 60,  1, 70, 61,  1, 41, 64, 71, 60, 73, 64, 69, 62,  0, 51, 22,\n",
      "        1, 64, 59, 22, 59, 58,  9, 74, 60, 75, 59, 56, 69, 58, 60,  9, 13,\n",
      "        0, 38, 22, 28, 82,  0, 37, 22, 13, 11, 20,  0, 36, 22, 32,  1, 38,\n",
      "       56, 65, 70, 73,  0, 59, 58, 82, 27, 14, 58, 26,  1, 27, 14]), array([14,  1, 58, 26, 26, 14,  1, 58, 26, 31, 26, 82, 32, 29, 27,  8, 29,\n",
      "        1, 32,  8, 29, 27,  8, 29, 82, 58, 14, 58, 27,  1, 58, 60, 59, 27,\n",
      "       82, 32, 26, 27, 32,  1, 26, 15, 82, 53,  2,  0,  0, 49, 22, 13, 20,\n",
      "       20,  0, 45, 22, 36, 69, 70, 75, 75, 60, 59,  1, 28, 70, 73, 59,  0,\n",
      "       51, 22,  1, 64, 59, 22, 59, 58,  9, 73, 60, 60, 67,  9, 13, 19, 13,\n",
      "        0, 38, 22, 28,  0, 37, 22, 13, 11, 20,  0, 36, 22, 26,  1]), array([59, 27, 58,  1, 59, 27, 26, 14, 82, 27, 60, 60, 58,  1, 59, 14, 61,\n",
      "       59, 82, 60, 59, 27, 58,  1, 59, 15, 26, 82,  2,  0, 27, 60, 60, 58,\n",
      "        1, 59, 14, 61, 59, 82, 60, 59, 27, 58,  1, 59, 27, 26, 61, 82, 62,\n",
      "       14, 62, 60,  1, 61, 14, 61, 60, 82, 59, 27, 26, 27,  1, 60, 15, 82,\n",
      "       53,  2,  0,  0, 49, 22, 13, 19, 18,  0, 45, 22, 36, 60, 77, 64, 69,\n",
      "        1, 36, 60, 60, 62, 56, 69,  0, 51, 22,  1, 64, 59, 22, 59]), array([36, 22, 32,  1, 38, 56, 65, 70, 73,  0, 59, 60, 59,  1, 27, 32, 27,\n",
      "        1, 27, 32, 27, 82, 59, 60, 59,  1, 27, 32, 27,  1, 58, 27, 26, 82,\n",
      "       59, 60, 59,  1, 27, 32, 27,  1, 27, 32, 27, 82, 58, 27, 58,  1, 26,\n",
      "       14, 27,  1, 58, 27, 26, 22, 82,  2,  0, 32, 27, 59,  1, 62, 59, 27,\n",
      "        1, 62, 59, 27, 82, 32, 27, 59,  1, 62, 59, 27,  1, 58, 27, 26, 82,\n",
      "       32, 27, 59,  1, 62, 59, 27,  1, 62, 59, 27, 82, 58, 27, 58]), array([ 2,  0,  0, 49, 22, 14, 13,  0, 45, 22, 44, 78, 56, 62, 62, 60, 73,\n",
      "       64, 69, 62,  0, 51, 22,  1, 64, 59, 22, 59, 58,  9, 74, 67, 64, 71,\n",
      "       65, 64, 62,  9, 13, 13,  0, 38, 22, 21, 11, 20,  0, 37, 22, 13, 11,\n",
      "       20,  0, 36, 22, 32,  1, 38, 56, 65, 70, 73,  0, 27, 26, 32,  1, 26,\n",
      "       32, 30,  1, 29, 30, 32, 82, 27, 26, 32,  1, 32, 31, 32,  1, 26, 27,\n",
      "       58, 82, 27, 26, 32,  1, 26, 32, 30,  1, 29, 30, 32, 82, 58]), array([60, 73,  0, 51, 22,  1, 64, 59, 22, 59, 58,  9, 73, 60, 60, 67,  9,\n",
      "       21, 19,  0, 38, 22, 28,  0, 37, 22, 13, 11, 20,  0, 36, 22, 29,  1,\n",
      "       38, 56, 65, 70, 73,  0, 60, 82, 59, 27, 27, 14,  1, 26, 14, 31, 26,\n",
      "       82, 59, 14, 59, 54, 58,  1, 59, 60, 61, 60, 82, 59, 27, 27, 14,  1,\n",
      "       26, 14, 31, 26, 82, 27, 60, 60, 59,  1, 60, 61, 61, 60, 82,  2,  0,\n",
      "       59, 27, 27, 14,  1, 26, 14, 31, 26, 82, 59, 14, 59, 54, 58]), array([26, 82, 58, 14, 58, 14,  1, 58, 59, 60, 14, 82, 58, 14, 58, 14,  1,\n",
      "       58, 59, 60, 14, 82,  2,  0, 56, 62, 61, 56,  1, 62, 61, 60, 62, 82,\n",
      "       61, 60, 59, 61,  1, 60, 59, 27, 26, 82, 59, 14, 59, 14,  1, 60, 61,\n",
      "       62, 60, 82, 61, 14, 59, 14,  1, 59, 14, 22, 82,  2,  0,  0, 49, 22,\n",
      "       18, 13,  0, 45, 22, 45, 56, 64, 67, 70, 73,  5, 74,  1, 45, 78, 64,\n",
      "       74, 75,  0, 51, 22,  1, 64, 59, 22, 59, 58,  9, 63, 70, 73])]\n",
      "x_batch:  [[62 27 27 ...  1 75 63]\n",
      " [14 60  1 ...  0 38 22]\n",
      " [ 1 59 14 ... 26 14  1]\n",
      " ...\n",
      " [53  2  0 ... 30 32 82]\n",
      " [68 60 73 ... 14 59 54]\n",
      " [27 26 82 ...  9 63 70]]\n",
      "y_batch:  [[27 27 14 ... 75 63 60]\n",
      " [60  1 56 ... 38 22 14]\n",
      " [59 14 22 ... 14  1 26]\n",
      " ...\n",
      " [ 2  0  0 ... 32 82 58]\n",
      " [60 73  0 ... 59 54 58]\n",
      " [26 82 58 ... 63 70 73]]\n"
     ]
    },
    {
     "name": "stdout",
     "output_type": "stream",
     "text": [
      "Input shape:  (32, 100) (batch_size, sequence_length\n",
      "Prediction shape:  (32, 100, 83) (batch_size, sequence_length, vocab_size)\n"
     ]
    }
   ],
   "source": [
    "x, y = get_batch(vectorized_songs, seq_length=100, batch_size=32)\n",
    "pred = model(x)\n",
    "print(\"Input shape: \", x.shape, \"(batch_size, sequence_length\")\n",
    "print(\"Prediction shape: \", pred.shape, \"(batch_size, sequence_length, vocab_size)\")"
   ]
  },
  {
   "cell_type": "markdown",
   "metadata": {
    "colab_type": "text",
    "id": "Nj6g_YSHqF17"
   },
   "source": [
    "### Predictions from the untrained model"
   ]
  },
  {
   "cell_type": "markdown",
   "metadata": {
    "colab_type": "text",
    "id": "IHe0Jk9jqMCA"
   },
   "source": [
    "Hãy quan sát xem những gì mà *model* chưa được huấn luyện dự đoán được.  \n",
    "Dự đoán thực tế từ *model*, chúng ta lấy ví dụ từ *output distribution*, cái mà chúng ta định nghĩa bởi *softmax* trên mỗi ký tự. Điều này sẽ đưa cho chúng ta chỉ số thực tế của ký tự. Nghĩa là chúng ta sẽ sử dụng một [categorial distribution](https://en.wikipedia.org/wiki/Categorical_distribution) mẫu trên ví dụ dự đoán. Nó sẽ đưa ra một dự đoán của ký tự xuất hiện tiếp theo (specifically ít index) tại mỗi thời điểm.  \n",
    "Lưu ý: Chúng ta lấy ví dụ từ xác xuất phân phối, trái ngược với việc đơn giản là lấy *argmax*, điều này có thể khiến *model* bị kẹt trong một vòng lặp."
   ]
  },
  {
   "cell_type": "code",
   "execution_count": 18,
   "metadata": {
    "colab": {
     "base_uri": "https://localhost:8080/",
     "height": 125
    },
    "colab_type": "code",
    "id": "ckUsWQxgrrCe",
    "outputId": "6ec2beb6-ae2b-47f7-be7c-307aa56d042f"
   },
   "outputs": [
    {
     "data": {
      "text/plain": [
       "array([73, 64, 63, 22, 16, 14, 37, 51, 82, 68, 48, 29, 65, 74, 32, 44,  4,\n",
       "       41,  8, 55, 32,  4, 54, 75, 24, 43, 54, 13, 22, 79, 77, 65,  5,  9,\n",
       "       37, 24, 49, 38, 59, 18, 43, 67, 82, 61, 73,  5, 30, 68, 79, 43,  3,\n",
       "       41, 15, 58, 82, 65, 30, 66, 40,  8, 70,  2, 11, 51, 77, 66, 67, 69,\n",
       "       54, 30, 68,  9, 26, 40, 50, 51,  4, 67,  5, 48, 76, 56, 60,  6, 45,\n",
       "       35, 32, 26, 28, 40, 24, 29, 79, 57, 11, 45, 43, 18, 39, 65])"
      ]
     },
     "execution_count": 18,
     "metadata": {},
     "output_type": "execute_result"
    }
   ],
   "source": [
    "sampled_indices = tf.random.categorical(pred[0], num_samples=1)\n",
    "sampled_indices = tf.squeeze(sampled_indices, axis=-1).numpy()\n",
    "sampled_indices"
   ]
  },
  {
   "cell_type": "markdown",
   "metadata": {
    "colab_type": "text",
    "id": "pQ2Fb0x7sMXW"
   },
   "source": [
    "Bây giờ chúng ta có thể giải mã chúng để xem những từ được dự đoán bở *model* chưa được huấn luyện."
   ]
  },
  {
   "cell_type": "code",
   "execution_count": 19,
   "metadata": {
    "colab": {
     "base_uri": "https://localhost:8080/",
     "height": 125
    },
    "colab_type": "code",
    "id": "knvMWyYCsXv2",
    "outputId": "75459f9c-77ad-48bb-aef5-d02cc6882351"
   },
   "outputs": [
    {
     "name": "stdout",
     "output_type": "stream",
     "text": [
      "Input: \n",
      " 'gBB2|defg afdf|g2bg f2af|gefd edB2|!\\nafdf edBc|dBAF DEFD|EG=cA Bdgb|afdf e2:|!\\n\\nX:71\\nT:Dogs among th'\n",
      "\n",
      "Next Char Predictions: \n",
      " 'rih:42LZ|mWDjsGS#P,_G#^t=R^1:xvj\\'-L=XMd6Rl|fr\\'EmxR\"P3c|jEkO,o!/Zvkln^Em-AOYZ#l\\'Wuae(TJGACO=Dxb/TR6Nj'\n"
     ]
    }
   ],
   "source": [
    "print(\"Input: \\n\", repr(\"\".join(idx2char[x[0]])))\n",
    "print()\n",
    "print(\"Next Char Predictions: \\n\", repr(\"\".join(idx2char[sampled_indices])))"
   ]
  },
  {
   "cell_type": "markdown",
   "metadata": {
    "colab_type": "text",
    "id": "yE1R6G5kwqYN"
   },
   "source": [
    "Và chúng ta có thể thấy những ký tự đã được dự đoán bởi *model* chưa được huấn luyện khá là vô nghĩa. Vậy làm thế nào để có được kết quả tốt hơn? Chúng ta có thể huấn luyện một *network*"
   ]
  },
  {
   "cell_type": "markdown",
   "metadata": {
    "colab_type": "text",
    "id": "qR4BGE_4w9p1"
   },
   "source": [
    "### Training the Model: Loss and training operations."
   ]
  },
  {
   "cell_type": "markdown",
   "metadata": {
    "colab_type": "text",
    "id": "V5TGJD1AxLkw"
   },
   "source": [
    "Bây giờ chúng ta sẽ huấn luyện một *model*.  \n",
    "Chúng ta có thể nghĩa đến bài toán dự đoán ký tự xuất hiện tiếp theo là một bài toán phân lớp. Đưa vào một trạng thái trước đó của RNN, cũng như *input* tại một thời điển, chúng ta muốn dự đoán một lớp của ký tự xuất hiện tiếp theo.  \n",
    "Để huấn luyện *model* cho việc phân lớp này, chúng ta có thể sử dụng *cross_entropy loss* (negative log likelihood loss). Đặc biệt, chúng ta có thể sử dụng [sparse_categorical_crossentropy](https://www.tensorflow.org/api_docs/python/tf/keras/losses/sparse_categorical_crossentropy), vì nó sử dụng các mục tiêu số nguyên cho nhiệm vụ quyết định việc phân lớp.   "
   ]
  },
  {
   "cell_type": "code",
   "execution_count": 20,
   "metadata": {
    "colab": {},
    "colab_type": "code",
    "id": "fRD2n2rHy20d"
   },
   "outputs": [],
   "source": [
    "# defining the loss function\n",
    "'''\n",
    "  Define the loss function to compute and return the loss between\n",
    "  the true labels and predictions (logits). Set the argument from_logits=True.\n",
    "'''\n",
    "def compute_loss(labels, logits):\n",
    "  loss = tf.keras.losses.sparse_categorical_crossentropy(labels, logits, from_logits=True)\n",
    "  \n",
    "  return loss"
   ]
  },
  {
   "cell_type": "code",
   "execution_count": 21,
   "metadata": {
    "colab": {
     "base_uri": "https://localhost:8080/",
     "height": 53
    },
    "colab_type": "code",
    "id": "zOpJo2-KxC8Q",
    "outputId": "f2e9ab21-3609-4fcb-c49e-c65ad9064d01"
   },
   "outputs": [
    {
     "name": "stdout",
     "output_type": "stream",
     "text": [
      "Prediction shape:  (32, 100, 83) (batch_size, sequence_length, vocab_size\n",
      "scalar_loss:  4.4198914\n"
     ]
    }
   ],
   "source": [
    "'''\n",
    "  Compute the loss using the true next characters from the example batch and the predictions \n",
    "  from the untrained model several cells above.\n",
    "'''\n",
    "example_batch_loss = compute_loss(y, pred)\n",
    "print(\"Prediction shape: \", pred.shape, \"(batch_size, sequence_length, vocab_size\")\n",
    "print(\"scalar_loss: \", example_batch_loss.numpy().mean())\n"
   ]
  },
  {
   "cell_type": "markdown",
   "metadata": {
    "colab_type": "text",
    "id": "wMLobCaW0CDP"
   },
   "source": [
    "Định nghĩa các siêu tham số cho việc huấn luyện *model*. Để bắt đầu, chúng ta cung cấp các giá trị hợp lý cho các tham số. "
   ]
  },
  {
   "cell_type": "code",
   "execution_count": 22,
   "metadata": {
    "colab": {},
    "colab_type": "code",
    "id": "UBOLHwRK0oxy"
   },
   "outputs": [],
   "source": [
    "# Hyperparameter setting and optimization\n",
    "# Optimization parameters\n",
    "num_training_iterations = 2000 # Increase this to train longer\n",
    "batch_size = 4 # Experiment between 1 and 64\n",
    "seq_length = 100 # Experiment between 50 and 500\n",
    "learning_rate = 5e-3 # Experiment between 1e-5 and 1e01\n",
    "\n",
    "# Model parameters.\n",
    "vocab_size = len(vocab)\n",
    "embedding_dim = 256\n",
    "rnn_units = 1024 # Experiment between 1 and 2048\n",
    "\n",
    "# Checkpoint location\n",
    "checkpoint_dir = 'training_checkpoints'\n",
    "checkpoint_prefix = os.path.join(checkpoint_dir, \"my_ckpt\")"
   ]
  },
  {
   "cell_type": "markdown",
   "metadata": {
    "colab_type": "text",
    "id": "xWaS1YjG3G77"
   },
   "source": [
    "Bây giờ, chúng ta sẵn sàng để định nghĩa cho quá trình huấn luyện, quá trình tối ưu hóa và thời gian cho huấn luyện, và sử dụng hàm này để huấn luyện *model*. Bạn sẽ thử nghiệm với việc chọn tối ưu hóa và thời gian huấn luyện cho việc huấn luyện *model* của bạn. CHúng ta thấy những thay đổi này ảnh hưởng đến kết quả của *network* là như thế nào. Một vài ví dụ về việc tối ưu như: [Adam](https://www.tensorflow.org/api_docs/python/tf/keras/optimizers/Adam?version=stable), [Adagrad](https://www.tensorflow.org/api_docs/python/tf/keras/optimizers/Adagrad?version=stable).  \n",
    "Đầu tiên, chúng ta khởi tạo *model* và một hàm tối ưu. Sau đó, chúng ta sẽ sử dụng phương thức [tf.GradientTape](https://www.tensorflow.org/api_docs/python/tf/GradientTape) để biểu diễn quá trình lan truyền ngược (Backpropagation).  \n",
    "Chúng ta sẽ in ra tiến trình của *model* xuyên suốt quá trình huấn luyện, nó sẽ giúp chúng ta dễ dàng quan sát việc giảm thiệu sự mất mát."
   ]
  },
  {
   "cell_type": "code",
   "execution_count": 23,
   "metadata": {
    "colab": {},
    "colab_type": "code",
    "id": "H2K9X2eB2A8M"
   },
   "outputs": [],
   "source": [
    "# Define optimizer and training operation\n",
    "'''\n",
    "  Instantiate a new model for training using the 'build_model' function\n",
    "  and the hyperparameters created above.\n",
    "'''\n",
    "model = build_model(vocab_size, embedding_dim, rnn_units, batch_size)\n",
    "# Trying using the Adam optimizer to start.\n",
    "optimizer = tf.keras.optimizers.Adam(learning_rate)"
   ]
  },
  {
   "cell_type": "code",
   "execution_count": 24,
   "metadata": {
    "colab": {},
    "colab_type": "code",
    "id": "4IlnqJvK4xpg"
   },
   "outputs": [],
   "source": [
    "@tf.function\n",
    "def train_step(x, y):\n",
    "  # Use tf.GradientTape()\n",
    "  with tf.GradientTape() as tape:\n",
    "    # feed the current input into the model and generate predictions\n",
    "    y_hat = model(x)\n",
    "    # compute the loss\n",
    "    loss = compute_loss(y, y_hat)\n",
    "    '''\n",
    "      Complete the function call for gradient computation.\n",
    "      Remember that we want the gradient of the loss with respect all of the model parameters.\n",
    "      HINT: use 'model.trainable_variables' to get a list of all model parameters.\n",
    "    '''\n",
    "    grads = tape.gradient(loss, model.trainable_variables)\n",
    "    # Apply the gradients to the optimizer so it can update the model accordingly\n",
    "    optimizer.apply_gradients(zip(grads, model.trainable_variables))\n",
    "\n",
    "    return loss"
   ]
  },
  {
   "cell_type": "code",
   "execution_count": 25,
   "metadata": {
    "colab": {
     "base_uri": "https://localhost:8080/",
     "height": 1000
    },
    "colab_type": "code",
    "id": "Uzi9Wy786QZo",
    "outputId": "01494149-72bc-457f-8c1c-fd9d4b311cf5"
   },
   "outputs": [
    {
     "data": {
      "image/png": "[encoded data removed]",
      "text/plain": [
       "<Figure size 432x288 with 1 Axes>"
      ]
     },
     "metadata": {},
     "output_type": "display_data"
    },
    {
     "name": "stderr",
     "output_type": "stream",
     "text": [
      "100%|██████████| 2000/2000 [2:03:04<00:00,  3.69s/it]\n"
     ]
    },
    {
     "data": {
      "image/png": "[encoded data removed]",
      "text/plain": [
       "<Figure size 432x288 with 1 Axes>"
      ]
     },
     "metadata": {
      "needs_background": "light"
     },
     "output_type": "display_data"
    }
   ],
   "source": [
    "# Begin training\n",
    "\n",
    "history = []\n",
    "plotter = util.PeriodicPlotter(sec=2, xlabel='Iterations', ylabel='Loss')\n",
    "if hasattr(tqdm, '_instances'): tqdm._instances.clear() # clear if it exists\n",
    "\n",
    "for iter in tqdm(range(num_training_iterations)):\n",
    "  # Grab a batch and propagete it through the network\n",
    "  x_batch, y_batch = get_batch(vectorized_songs, seq_length, batch_size)\n",
    "  loss = train_step(x_batch, y_batch)\n",
    "\n",
    "  # Update the progress bar\n",
    "  history.append(loss.numpy().mean())\n",
    "  plotter.plot(history)\n",
    "\n",
    "  # Update the model with the changed weights\n",
    "  if iter % 100 == 0:\n",
    "    model.save_weights(checkpoint_prefix)\n",
    "\n",
    "# Save the trained model and the weights\n",
    "model.save_weights(checkpoint_prefix)"
   ]
  },
  {
   "cell_type": "markdown",
   "metadata": {
    "colab_type": "text",
    "id": "Wbuq_M0A_7Fh"
   },
   "source": [
    "### Generate music using the RNN model"
   ]
  },
  {
   "cell_type": "markdown",
   "metadata": {
    "colab_type": "text",
    "id": "gclW4wCy_-1E"
   },
   "source": [
    "Bây giờ, chúng ta có thể sử dụng *RNN model* đã được huấn luyện để phát sinh nhạc. Khi đang phát sinh nhạc, chúng ta sẽ cung cấp cho *model* một vài *seed* để bắt đầu (bởi vì nó không thể dự đoán bất kỳ điều gì khi không có gì để bắt đầu.  \n",
    "Khi chúng ta có một *seed* được tạo ra, chúng ta có thể lặp đi lặp lại việc dự đoán cho mỗi ký tự kế tiếp (nên nhớ, chúng ta sử dụng ABC đại diện cho bản nhạc của chúng ta) bằng việc sử dụng *RNN model* đã được huấn luyện. Đặc biệt hơn, *RNN model* tạo ra một *softmax* trên các ký tự kế tiếp có thể. Để khởi tạo, chúng ta lặp đi lặp lại một mẫu từ các phân phối này, và sử dụng cho các mẫu để mã hóa một bài hát được tạo bởi định dạng *ABC*.  \n",
    "Sau đó, chúng ta sẽ ghi chúng lên một file và nghe chúng."
   ]
  },
  {
   "cell_type": "markdown",
   "metadata": {
    "colab_type": "text",
    "id": "pNQ1luA-Cr3u"
   },
   "source": [
    "### Restore the lates checkpoint"
   ]
  },
  {
   "cell_type": "markdown",
   "metadata": {
    "colab_type": "text",
    "id": "RqxNtkj4DZb3"
   },
   "source": [
    "Để giữ cho bước suy luận đơn giản, chúng ta sử dụng một *batch_size* của 1. Bởi vì như thế *RNN state* sẽ được truyền từ thời điểm này đến thời điểm khác, *model*sẽ chỉ có thể chấp nhận *batch_size* cố định sau khi được xây dưng.  \n",
    "Để thực thi *model* với *batch_size* khác nhau, chúng ta sẽ cần đến việc xây dựng lại *model* và lưu các trọng số từ lần *checkpoint* cuối cùng. "
   ]
  },
  {
   "cell_type": "code",
   "execution_count": 26,
   "metadata": {
    "colab": {
     "base_uri": "https://localhost:8080/",
     "height": 268
    },
    "colab_type": "code",
    "id": "lHAr7_Ls_6KZ",
    "outputId": "d5288d16-d0c0-4526-c077-8bb61b097178"
   },
   "outputs": [
    {
     "name": "stdout",
     "output_type": "stream",
     "text": [
      "Model: \"sequential_2\"\n",
      "_________________________________________________________________\n",
      "Layer (type)                 Output Shape              Param #   \n",
      "=================================================================\n",
      "embedding_2 (Embedding)      (1, None, 256)            21248     \n",
      "_________________________________________________________________\n",
      "lstm_2 (LSTM)                (1, None, 1024)           5246976   \n",
      "_________________________________________________________________\n",
      "dense_2 (Dense)              (1, None, 83)             85075     \n",
      "=================================================================\n",
      "Total params: 5,353,299\n",
      "Trainable params: 5,353,299\n",
      "Non-trainable params: 0\n",
      "_________________________________________________________________\n"
     ]
    }
   ],
   "source": [
    "# Rebuild the model using a batch_size = 1\n",
    "model = build_model(vocab_size, embedding_dim, rnn_units, batch_size=1)\n",
    "# Restore the model weights for the last checkpoint after training \n",
    "model.load_weights(tf.train.latest_checkpoint(checkpoint_dir))\n",
    "model.build(tf.TensorShape([1, None]))\n",
    "model.summary()"
   ]
  },
  {
   "cell_type": "markdown",
   "metadata": {
    "colab_type": "text",
    "id": "DbvD_pCPEyC-"
   },
   "source": [
    "Chúng ta chỉ cung cấp một *fixed batch_size* là 1 để suy luận"
   ]
  },
  {
   "cell_type": "markdown",
   "metadata": {
    "colab_type": "text",
    "id": "AaGGk-DkFAqx"
   },
   "source": [
    "### The prediction procedure"
   ]
  },
  {
   "cell_type": "markdown",
   "metadata": {
    "colab_type": "text",
    "id": "nEyreXYgFk7O"
   },
   "source": [
    "Bâu giờ, chúng ta sẵn sàng để phát sinh một bản nhạc với định dạng ABC:\n",
    "* Khởi tạo 1 \"seed\" bắt đầu chuỗi và *RNN state*, và cài đặt số ký tự bạn muốn phát sinh.\n",
    "* Sử dụng chuỗi bắt đầu và *RNN state* để đạt được xác suất phân phối trên mỗi ký tự dự đã được dự đoán.\n",
    "* Lấy mẫu từ nhân pphân phối để tính toán vị trí của ký tự được dự đoán. Với ký tự dự đoán này sau đó được sử dụng làm đầu vào tiếp theo cho mô hình.\n",
    "* Tại mỗi thời điểm, *RNN state* đã được cập nhật để cung cấp ngược lại cho *model*, vì vậy nó có nhiều bối cảnh hơn cho việc đưa ra dự đoán tiếp theo. Sau khi dự đoán ký tự tiếp theo, *RNN states* đã được cập nhật sẽ lại được cung cấp cho model, đó là cách mà *model* học, nó sẽ học những trình tự phụ thuộc bên trong dữ liệu, khi nó nhận nhiều thông tin hơn từ kết quả dự đoán trước đó. \n",
    "\n",
    "![LSTM](https://camo.githubusercontent.com/7fe77db94dd40e1dfda455189f7064977d8b9946/68747470733a2f2f7261772e67697468756275736572636f6e74656e742e636f6d2f61616d696e692f696e74726f746f646565706c6561726e696e672f323031392f6c6162312f696d672f6c73746d5f696e666572656e63652e706e67)\n",
    "\n",
    "Hoàn thành và thử nghiệm với khối mã này (cũng như một vài khía cạnh của định nghĩa và đào tạo mạng). và chúng ta thấy quá trình thực hiện của *model*. Bản nhạc đã được phát sinh như thế nào sau khi huấn luyện với một số lượng nhỏ *epochs* so sánh với bản nhạc được tạo ra sau một thời gian huấn luyện lâu hơn?"
   ]
  },
  {
   "cell_type": "code",
   "execution_count": 27,
   "metadata": {
    "colab": {},
    "colab_type": "code",
    "id": "0Co6ErHoIFi6"
   },
   "outputs": [],
   "source": [
    "# Prediction of a generated song\n",
    "def generate_text(model, start_string, generation_length=1000):\n",
    "  # evaluation step (generating ABC text using the learned RNN model)\n",
    "  \n",
    "  #convert the start string to numbers (vectorize)\n",
    "  input_eval = [char2idx[s] for s in start_string]\n",
    "  input_eval = tf.expand_dims(input_eval, 0)\n",
    "\n",
    "  # Empty string to store our results\n",
    "  text_generated = []\n",
    "\n",
    "  # Here batch_size == 1\n",
    "  model.reset_states()\n",
    "  tqdm._instances.clear()\n",
    "\n",
    "  for i in tqdm(range(generation_length)):\n",
    "    # evaluate the inputs and generate the next character predictions\n",
    "    predictions = model(input_eval)\n",
    "    # remove the batch dimension\n",
    "    predictions = tf.squeeze(predictions, 0)\n",
    "    # use a multinomial distribution to sample\n",
    "    predicted_id = tf.random.categorical(predictions, num_samples=1)[-1, 0].numpy()\n",
    "    # Pass the prediction along with the previous hidden state as the next input to the model\n",
    "    input_eval = tf.expand_dims([predicted_id], 0)\n",
    "    # add the predicted character to the generated text\n",
    "    text_generated.append(idx2char[predicted_id])\n",
    "  \n",
    "  return (start_string + ''.join(text_generated))"
   ]
  },
  {
   "cell_type": "code",
   "execution_count": 28,
   "metadata": {
    "colab": {
     "base_uri": "https://localhost:8080/",
     "height": 35
    },
    "colab_type": "code",
    "id": "3A60-V4yJZ42",
    "outputId": "64a02eee-f0b8-4fa6-b02b-1531565f32d5"
   },
   "outputs": [
    {
     "name": "stderr",
     "output_type": "stream",
     "text": [
      "100%|██████████| 1000/1000 [00:09<00:00, 102.85it/s]\n"
     ]
    }
   ],
   "source": [
    "'''\n",
    "  Use the model and the function defined above to generate ABC format text of length 1000!\n",
    "  As you may notice, ABC files start with \"X\" - this may be a good start string\n",
    "'''\n",
    "generated_text = generate_text(model, start_string=\"X\", generation_length=1000)"
   ]
  },
  {
   "cell_type": "markdown",
   "metadata": {
    "colab_type": "text",
    "id": "uX7OSjjcJzMt"
   },
   "source": [
    "### Play back the generated music"
   ]
  },
  {
   "cell_type": "markdown",
   "metadata": {
    "colab_type": "text",
    "id": "ZReI9IWqJ1Nt"
   },
   "source": [
    "Chúng ta có thể gọi hàm chuyển văn bản định dạng *ABC* thành một file audio và sau đó phát lại để kiểm tra kết quả của chúng ta sau khi tạ nhạc. Hãy thử huấn luyện thời gian lâu hơn nếu bản nhạc kết quả không đủ dài."
   ]
  },
  {
   "cell_type": "code",
   "execution_count": 29,
   "metadata": {
    "colab": {
     "base_uri": "https://localhost:8080/",
     "height": 175
    },
    "colab_type": "code",
    "id": "gi-5vkXpKOmx",
    "outputId": "d3aec9f3-516e-43c6-f240-769910c9048f"
   },
   "outputs": [
    {
     "name": "stdout",
     "output_type": "stream",
     "text": [
      "Found 2 songs in text\n",
      "2\n"
     ]
    }
   ],
   "source": [
    "# Play back generated songs\n",
    "generated_songs = setup.extract_song_snippet(generated_text)\n",
    "print(len(generated_songs))\n",
    "for i, song in enumerate(generated_songs):\n",
    "  # synthesize the waveform from a song\n",
    "  waveform = setup.play_song(song)\n",
    "  # if its a valid song (correct syntax), lets play it\n",
    "  if waveform:\n",
    "    print(\"Generated song\", i)\n",
    "    ipythondisplay.display(waveform)"
   ]
  }
 ],
 "metadata": {
  "accelerator": "GPU",
  "colab": {
   "collapsed_sections": [],
   "name": "Music Generation.ipynb",
   "provenance": []
  },
  "kernelspec": {
   "display_name": "Python 3",
   "language": "python",
   "name": "python3"
  },
  "language_info": {
   "codemirror_mode": {
    "name": "ipython",
    "version": 3
   },
   "file_extension": ".py",
   "mimetype": "text/x-python",
   "name": "python",
   "nbconvert_exporter": "python",
   "pygments_lexer": "ipython3",
   "version": "3.6.9"
  }
 },
 "nbformat": 4,
 "nbformat_minor": 1
}
